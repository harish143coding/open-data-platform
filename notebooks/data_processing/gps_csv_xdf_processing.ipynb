{
 "cells": [
  {
   "cell_type": "code",
   "execution_count": 1,
   "id": "55ff3bea-04d0-4083-a560-b0baf467f6e8",
   "metadata": {},
   "outputs": [],
   "source": [
    "# To fetch the other modules from the main directories \n",
    "import sys\n",
    "sys.path.append('/home/harish/GitRepos/Smart_Helm/')\n",
    "import pandas as pd\n",
    "import os\n",
    "from data_processing.raw_data_parser import transform_gps\n",
    "from data_processing.raw_data_parser import get_experiment_details\n",
    "import pyxdf"
   ]
  },
  {
   "cell_type": "code",
   "execution_count": 2,
   "id": "4a651ecb-4118-4a02-b083-3ab654c50f01",
   "metadata": {},
   "outputs": [],
   "source": [
    "import dtale"
   ]
  },
  {
   "cell_type": "code",
   "execution_count": 2,
   "id": "63b107bf-434e-418b-bafb-907e0bbb530a",
   "metadata": {},
   "outputs": [],
   "source": [
    "file_csv = \"Citipost_2021_09_16_JS_02_location_smarthelm_gps.csv\"\n",
    "file_xdf = \"Citipost_2021_09_16_JS_02_raw_eeg_sub-P001_ses-S001_task-Default_run-001_eeg.xdf\"\n",
    "remote_file =  \"Citipost/2021/JS/1/3/5/6\""
   ]
  },
  {
   "cell_type": "code",
   "execution_count": 4,
   "id": "f65f03a1-f1d6-4d4a-8b88-ba5a3a2dfb0f",
   "metadata": {
    "tags": []
   },
   "outputs": [],
   "source": [
    "geo_coords = pd.read_csv(file_csv, sep=';')"
   ]
  },
  {
   "cell_type": "code",
   "execution_count": 5,
   "id": "bac9c68e-7f4e-4f18-8f47-361e4cb79315",
   "metadata": {},
   "outputs": [
    {
     "data": {
      "text/plain": [
       "'{\"_type\":\"location\",\"BSSID\":\"e4:c3:2a:8a:45:57\",\"SSID\":\"TP-Link_4557\",\"acc\":27,\"alt\":60,\"batt\":56,\"bs\":1,\"conn\":\"w\",\"created_at\":1631801383,\"lat\":53.1897265,\"lon\":8.2282876,\"tid\":\"te\",\"tst\":1631801383,\"vac\":3,\"vel\":3}'"
      ]
     },
     "execution_count": 5,
     "metadata": {},
     "output_type": "execute_result"
    }
   ],
   "source": [
    "geo_coords['MSG'][0]"
   ]
  },
  {
   "cell_type": "code",
   "execution_count": 6,
   "id": "0411eeb2-6833-4c36-a754-dcd94b5e552d",
   "metadata": {},
   "outputs": [],
   "source": [
    "df = transform_gps(file_csv, \"Citipost/2021/JS/1/3/5/6\")"
   ]
  },
  {
   "cell_type": "code",
   "execution_count": 7,
   "id": "9e652f37-bc87-4b00-aa84-6dd91daefb74",
   "metadata": {},
   "outputs": [
    {
     "name": "stdout",
     "output_type": "stream",
     "text": [
      "<class 'pandas.core.frame.DataFrame'>\n",
      "RangeIndex: 901 entries, 0 to 900\n",
      "Data columns (total 9 columns):\n",
      " #   Column                  Non-Null Count  Dtype  \n",
      "---  ------                  --------------  -----  \n",
      " 0   altitude                901 non-null    float64\n",
      " 1   latitude                901 non-null    float64\n",
      " 2   longitude               901 non-null    float64\n",
      " 3   accuracy                901 non-null    float64\n",
      " 4   velocity                901 non-null    float64\n",
      " 5   experiment_date         901 non-null    object \n",
      " 6   participant_id          901 non-null    object \n",
      " 7   experiment_nr           901 non-null    int64  \n",
      " 8   experiment_location_id  901 non-null    object \n",
      "dtypes: float64(5), int64(1), object(3)\n",
      "memory usage: 63.5+ KB\n"
     ]
    }
   ],
   "source": [
    "df.info()\n",
    "# here from the df epoch_timestamp_tst and seconds_of_day should be removed\n",
    "#modified_df = df.drop(columns=['epoch_timestamp_tst', 'seconds_of_day'])"
   ]
  },
  {
   "cell_type": "code",
   "execution_count": 24,
   "id": "930bb8b2-c1ab-4f44-b98f-7fd102b3ebd0",
   "metadata": {},
   "outputs": [],
   "source": [
    "def transform_gps_csv(file_xdf, file_csv, remote_file):\n",
    "    \"\"\"\n",
    "    args: xdf_file\n",
    "    \n",
    "    returns: \n",
    "    \n",
    "    \"\"\"\n",
    "    data_streams, header = pyxdf.load_xdf(file_xdf)\n",
    "    for x in data_streams:\n",
    "        if x['info']['name'] == ['GoProCameraStream']:      \n",
    "            df_gps = transform_gps(file_csv, remote_file)\n",
    "            gps_start_lsl = x['time_stamps'][0]  + 80\n",
    "            gps_time_stamps = []\n",
    "            for x in range( len(df_gps['latitude'])):\n",
    "                gps_start_lsl = gps_start_lsl + 1\n",
    "                gps_time_stamps.append(gps_start_lsl) \n",
    "            df_gps['lsl_timestamp'] = gps_time_stamps\n",
    "    return df_gps"
   ]
  },
  {
   "cell_type": "code",
   "execution_count": 17,
   "id": "4b0cb28d-2622-415a-bf5f-d4f3f313a39a",
   "metadata": {},
   "outputs": [],
   "source": [
    "df_gps = transform_gps(file_csv, remote_file )"
   ]
  },
  {
   "cell_type": "code",
   "execution_count": 25,
   "id": "6c4db32a-8931-45ce-af70-cdb224c45f14",
   "metadata": {},
   "outputs": [],
   "source": [
    "gps = transform_gps_csv(file_xdf, file_csv, remote_file)\n",
    "#x = dtale.show(gps)\n",
    "#df_gps_lsl =  pd.DataFrame(df_gps_dict)"
   ]
  },
  {
   "cell_type": "code",
   "execution_count": 27,
   "id": "5852eb2b-b853-4d37-be38-89c3a25bccf8",
   "metadata": {},
   "outputs": [
    {
     "data": {
      "text/html": [
       "<div>\n",
       "<style scoped>\n",
       "    .dataframe tbody tr th:only-of-type {\n",
       "        vertical-align: middle;\n",
       "    }\n",
       "\n",
       "    .dataframe tbody tr th {\n",
       "        vertical-align: top;\n",
       "    }\n",
       "\n",
       "    .dataframe thead th {\n",
       "        text-align: right;\n",
       "    }\n",
       "</style>\n",
       "<table border=\"1\" class=\"dataframe\">\n",
       "  <thead>\n",
       "    <tr style=\"text-align: right;\">\n",
       "      <th></th>\n",
       "      <th>altitude</th>\n",
       "      <th>latitude</th>\n",
       "      <th>longitude</th>\n",
       "      <th>accuracy</th>\n",
       "      <th>velocity</th>\n",
       "      <th>experiment_date</th>\n",
       "      <th>participant_id</th>\n",
       "      <th>experiment_nr</th>\n",
       "      <th>experiment_location_id</th>\n",
       "      <th>lsl_timestamp</th>\n",
       "    </tr>\n",
       "  </thead>\n",
       "  <tbody>\n",
       "    <tr>\n",
       "      <th>0</th>\n",
       "      <td>60.0</td>\n",
       "      <td>53.189726</td>\n",
       "      <td>8.228288</td>\n",
       "      <td>27.0</td>\n",
       "      <td>3.0</td>\n",
       "      <td>2021-09-16</td>\n",
       "      <td>3</td>\n",
       "      <td>5</td>\n",
       "      <td>Citipost</td>\n",
       "      <td>624169.54861</td>\n",
       "    </tr>\n",
       "    <tr>\n",
       "      <th>1</th>\n",
       "      <td>60.0</td>\n",
       "      <td>53.189726</td>\n",
       "      <td>8.228303</td>\n",
       "      <td>28.0</td>\n",
       "      <td>3.0</td>\n",
       "      <td>2021-09-16</td>\n",
       "      <td>3</td>\n",
       "      <td>5</td>\n",
       "      <td>Citipost</td>\n",
       "      <td>624170.54861</td>\n",
       "    </tr>\n",
       "    <tr>\n",
       "      <th>2</th>\n",
       "      <td>60.0</td>\n",
       "      <td>53.189726</td>\n",
       "      <td>8.228303</td>\n",
       "      <td>28.0</td>\n",
       "      <td>3.0</td>\n",
       "      <td>2021-09-16</td>\n",
       "      <td>3</td>\n",
       "      <td>5</td>\n",
       "      <td>Citipost</td>\n",
       "      <td>624171.54861</td>\n",
       "    </tr>\n",
       "    <tr>\n",
       "      <th>3</th>\n",
       "      <td>60.0</td>\n",
       "      <td>53.189728</td>\n",
       "      <td>8.228319</td>\n",
       "      <td>29.0</td>\n",
       "      <td>3.0</td>\n",
       "      <td>2021-09-16</td>\n",
       "      <td>3</td>\n",
       "      <td>5</td>\n",
       "      <td>Citipost</td>\n",
       "      <td>624172.54861</td>\n",
       "    </tr>\n",
       "    <tr>\n",
       "      <th>4</th>\n",
       "      <td>60.0</td>\n",
       "      <td>53.189731</td>\n",
       "      <td>8.228337</td>\n",
       "      <td>32.0</td>\n",
       "      <td>4.0</td>\n",
       "      <td>2021-09-16</td>\n",
       "      <td>3</td>\n",
       "      <td>5</td>\n",
       "      <td>Citipost</td>\n",
       "      <td>624173.54861</td>\n",
       "    </tr>\n",
       "  </tbody>\n",
       "</table>\n",
       "</div>"
      ],
      "text/plain": [
       "   altitude   latitude  longitude  accuracy  velocity experiment_date  \\\n",
       "0      60.0  53.189726   8.228288      27.0       3.0      2021-09-16   \n",
       "1      60.0  53.189726   8.228303      28.0       3.0      2021-09-16   \n",
       "2      60.0  53.189726   8.228303      28.0       3.0      2021-09-16   \n",
       "3      60.0  53.189728   8.228319      29.0       3.0      2021-09-16   \n",
       "4      60.0  53.189731   8.228337      32.0       4.0      2021-09-16   \n",
       "\n",
       "  participant_id  experiment_nr experiment_location_id  lsl_timestamp  \n",
       "0              3              5               Citipost   624169.54861  \n",
       "1              3              5               Citipost   624170.54861  \n",
       "2              3              5               Citipost   624171.54861  \n",
       "3              3              5               Citipost   624172.54861  \n",
       "4              3              5               Citipost   624173.54861  "
      ]
     },
     "execution_count": 27,
     "metadata": {},
     "output_type": "execute_result"
    }
   ],
   "source": [
    "gps.head()"
   ]
  },
  {
   "cell_type": "code",
   "execution_count": null,
   "id": "12507454-7aec-4ce7-8fd5-9418f429f303",
   "metadata": {},
   "outputs": [],
   "source": [
    "dataset_js_2[2]['time_stamps'][0:10]"
   ]
  },
  {
   "cell_type": "code",
   "execution_count": 20,
   "id": "c1224569-4b35-48b0-b5eb-e17618eff601",
   "metadata": {},
   "outputs": [],
   "source": [
    "data_streams, header = pyxdf.load_xdf(file_xdf)"
   ]
  },
  {
   "cell_type": "code",
   "execution_count": 29,
   "id": "cf6b8b85-6e88-4876-b83f-18e850674b74",
   "metadata": {},
   "outputs": [
    {
     "name": "stdout",
     "output_type": "stream",
     "text": [
      "624168.5486100066\n"
     ]
    },
    {
     "ename": "TypeError",
     "evalue": "'float' object cannot be interpreted as an integer",
     "output_type": "error",
     "traceback": [
      "\u001b[0;31m---------------------------------------------------------------------------\u001b[0m",
      "\u001b[0;31mTypeError\u001b[0m                                 Traceback (most recent call last)",
      "Input \u001b[0;32mIn [29]\u001b[0m, in \u001b[0;36m<module>\u001b[0;34m\u001b[0m\n\u001b[1;32m      4\u001b[0m start_lst_ts \u001b[38;5;241m=\u001b[39m x[\u001b[38;5;124m'\u001b[39m\u001b[38;5;124mtime_stamps\u001b[39m\u001b[38;5;124m'\u001b[39m][\u001b[38;5;241m0\u001b[39m] \u001b[38;5;241m+\u001b[39m \u001b[38;5;241m80\u001b[39m\n\u001b[1;32m      5\u001b[0m \u001b[38;5;28mprint\u001b[39m(\u001b[38;5;28mfloat\u001b[39m(start_lst_ts))\n\u001b[0;32m----> 6\u001b[0m df_gps[\u001b[38;5;124m'\u001b[39m\u001b[38;5;124mlsl_timestamp\u001b[39m\u001b[38;5;124m'\u001b[39m] \u001b[38;5;241m=\u001b[39m \u001b[38;5;28mlist\u001b[39m(\u001b[38;5;28;43mrange\u001b[39;49m\u001b[43m(\u001b[49m\u001b[38;5;28;43mfloat\u001b[39;49m\u001b[43m(\u001b[49m\u001b[43mstart_lst_ts\u001b[49m\u001b[43m)\u001b[49m\u001b[43m,\u001b[49m\u001b[43m \u001b[49m\u001b[38;5;28;43mlen\u001b[39;49m\u001b[43m(\u001b[49m\u001b[43mdf_gps\u001b[49m\u001b[43m[\u001b[49m\u001b[38;5;124;43m'\u001b[39;49m\u001b[38;5;124;43mlatitude\u001b[39;49m\u001b[38;5;124;43m'\u001b[39;49m\u001b[43m]\u001b[49m\u001b[43m)\u001b[49m\u001b[43m)\u001b[49m)\n",
      "\u001b[0;31mTypeError\u001b[0m: 'float' object cannot be interpreted as an integer"
     ]
    }
   ],
   "source": [
    "for x in data_streams:\n",
    "    if x['info']['name'] == ['GoProCameraStream']:      \n",
    "        df_gps = transform_gps(file_csv, remote_file )\n",
    "        start_lst_ts = x['time_stamps'][0] + 80\n",
    "        print(float(start_lst_ts))\n",
    "        df_gps['lsl_timestamp'] = list(range(float(start_lst_ts), len(df_gps['latitude']))) \n",
    "        #x['time_stamps'][0] = x['time_stamps'][0]\n",
    "        #print(x['time_stamps'][0])"
   ]
  },
  {
   "cell_type": "code",
   "execution_count": null,
   "id": "df84b938-66fe-41a3-a91e-309169dde4fc",
   "metadata": {},
   "outputs": [],
   "source": []
  },
  {
   "cell_type": "code",
   "execution_count": null,
   "id": "73c7898a-b0cc-439f-8848-e5b117934bfa",
   "metadata": {},
   "outputs": [],
   "source": [
    "for k,v in d.items():  \n",
    "    local_data_path = download(args.bucket_name, v[\"raw\"])\n",
    "    etd_df, exp_date = transform_etd(local_data_path, filepath)\n",
    "    eeg_df = transform_eeg(local_data_path, exp_date,  filepath)\n",
    "    load_table_to_db(eeg_df, 'eeg_data')\n",
    "    load_table_to_db(etd_df, 'etd_data')\n",
    "    gps_df = transform_gps_xdf(local_data_path, exp_date, filepath)\n",
    "    if len(gps_df) == 1:\n",
    "        local_data_path_gps = download(args.bucket_name, v[\"location\"])\n",
    "        try:\n",
    "            gps_df = transform_gps_csv(local_data_path, local_data_path_gps, v[\"location\"])\n",
    "        except:\n",
    "            print(\"gps data not available\")\n",
    "            \n",
    "    load_table_to_db(gps_df, 'gps_data')\n",
    "    fact_df = fact_df_main(eeg_df, etd_df, gps_df)\n",
    "    load_table_to_db(fact_df, 'fact_data')\n",
    "\n",
    "\n",
    "         \n",
    "    \n"
   ]
  },
  {
   "cell_type": "code",
   "execution_count": null,
   "id": "1b630a4f-4223-421d-bf13-f4f8aa503eb2",
   "metadata": {},
   "outputs": [],
   "source": []
  }
 ],
 "metadata": {
  "kernelspec": {
   "display_name": "Python 3 (ipykernel)",
   "language": "python",
   "name": "python3"
  },
  "language_info": {
   "codemirror_mode": {
    "name": "ipython",
    "version": 3
   },
   "file_extension": ".py",
   "mimetype": "text/x-python",
   "name": "python",
   "nbconvert_exporter": "python",
   "pygments_lexer": "ipython3",
   "version": "3.8.10"
  }
 },
 "nbformat": 4,
 "nbformat_minor": 5
}
