{
 "cells": [
  {
   "cell_type": "code",
   "execution_count": 1,
   "metadata": {},
   "outputs": [],
   "source": [
    "\"modules that needed to be loaded from the main project\"\n",
    "import sys\n",
    "sys.path.append('/home/harish/GitRepos/Smart_Helm/')"
   ]
  },
  {
   "cell_type": "code",
   "execution_count": 2,
   "metadata": {},
   "outputs": [],
   "source": [
    "\"\"\"packages to import all the required packages\"\"\"\n",
    "import pandas as pd\n",
    "import swifter\n",
    "import os\n",
    "from data_processing.raw_data_parser import transform_eeg\n",
    "from data_processing.raw_data_parser import transform_etd\n",
    "from data_processing.raw_data_parser import transform_gps_xdf\n",
    "from data_processing.raw_data_parser import get_experiment_details\n",
    "from data_processing.fact_prep import create_fact_df\n",
    "from data_processing.fact_prep import fact_df_main\n",
    "import pyxdf\n",
    "import dtale"
   ]
  },
  {
   "cell_type": "code",
   "execution_count": 29,
   "metadata": {},
   "outputs": [],
   "source": [
    "filepath = \"test_files/Rytle_2021_11_05_BS_02_raw_eeg_sub-P001_ses-S001_task-Default_run-001_eeg.xdf\"\n",
    "remote_file = \"Rytle/2021/10/07/KZ/02\"\n",
    "dataset_rytle, header = pyxdf.load_xdf(filepath)"
   ]
  },
  {
   "cell_type": "code",
   "execution_count": 5,
   "metadata": {
    "tags": []
   },
   "outputs": [
    {
     "data": {
      "text/plain": [
       "{'info': defaultdict(list,\n",
       "             {'version': ['1.0'], 'datetime': ['2021-10-07T13:35:48+0200']})}"
      ]
     },
     "execution_count": 5,
     "metadata": {},
     "output_type": "execute_result"
    }
   ],
   "source": [
    "header"
   ]
  },
  {
   "cell_type": "code",
   "execution_count": 32,
   "metadata": {
    "scrolled": true,
    "tags": []
   },
   "outputs": [
    {
     "data": {
      "text/plain": [
       "620067.097090721"
      ]
     },
     "execution_count": 32,
     "metadata": {},
     "output_type": "execute_result"
    }
   ],
   "source": [
    "dataset_rytle[0][\"time_stamps\"][1000]"
   ]
  },
  {
   "cell_type": "code",
   "execution_count": 5,
   "metadata": {},
   "outputs": [],
   "source": [
    "etd, exp_date = transform_etd(filepath, remote_file)\n",
    "eeg = transform_eeg(filepath, exp_date, remote_file)\n",
    "gps = transform_gps_xdf(filepath, exp_date, remote_file)"
   ]
  },
  {
   "cell_type": "code",
   "execution_count": 7,
   "metadata": {},
   "outputs": [
    {
     "name": "stdout",
     "output_type": "stream",
     "text": [
      "<class 'pandas.core.frame.DataFrame'>\n",
      "RangeIndex: 1 entries, 0 to 0\n",
      "Data columns (total 10 columns):\n",
      " #   Column                  Non-Null Count  Dtype  \n",
      "---  ------                  --------------  -----  \n",
      " 0   altitude                0 non-null      float64\n",
      " 1   latitude                0 non-null      float64\n",
      " 2   longitude               0 non-null      float64\n",
      " 3   accuracy                0 non-null      float64\n",
      " 4   velocity                0 non-null      float64\n",
      " 5   lsl_timestamp           0 non-null      object \n",
      " 6   participant_id          1 non-null      object \n",
      " 7   experiment_nr           1 non-null      int64  \n",
      " 8   experiment_location_id  1 non-null      object \n",
      " 9   experiment_date         1 non-null      object \n",
      "dtypes: float64(5), int64(1), object(4)\n",
      "memory usage: 208.0+ bytes\n"
     ]
    }
   ],
   "source": [
    "gps.info()"
   ]
  },
  {
   "cell_type": "markdown",
   "metadata": {},
   "source": [
    "### TODO 1st step: first join etd and gps data\n",
    "### TODO 2nd : then use the joined df to formulate the corresponding DF\n",
    "### TODO 3rd step: join etd_gps_joined dataframe with the eeg\n",
    "### TODO 4th : __similarly__ formulate the main df"
   ]
  },
  {
   "cell_type": "code",
   "execution_count": null,
   "metadata": {},
   "outputs": [],
   "source": [
    "def get_gps_lsl_tst_join(ts_etd, gps_df):\n",
    "    df = gps_df.loc[(gps_df[\"lsl_timestamp\"] <= ts_etd) & (ts_etd < gps_df[\"next_lsl_timestamp\"])]\n",
    "    if df.empty:\n",
    "        return gps_df.loc[gps_df[\"lsl_timestamp\"] == gps_df[\"lsl_timestamp\"].max()][\"lsl_timestamp\"].values[0]\n",
    "    else:\n",
    "        return df[\"lsl_timestamp\"].values[0]"
   ]
  },
  {
   "cell_type": "code",
   "execution_count": null,
   "metadata": {},
   "outputs": [],
   "source": [
    "gps = gps.sort_values(by = \"lsl_timestamp\")\n",
    "gps[\"next_lsl_timestamp\"] = gps[\"lsl_timestamp\"].shift(-1)\n",
    "etd[\"joinable_timestamp_with_gps\"] = etd.apply(lambda row: get_gps_lsl_tst_join(row[\"lsl_timestamp\"], gps), axis=1)\n",
    "cols_to_select_from_gps_df = [\n",
    "    \"lsl_timestamp\",\n",
    "    \"altitude\",\n",
    "    'latitude', \n",
    "    \"longitude\",\n",
    "     \"accuracy\",\n",
    "    \"velocity\"\n",
    "]\n",
    "\n",
    "etd_joined_gps_df = etd.merge(\n",
    "    gps[cols_to_select_from_gps_df], \n",
    "    left_on=\"joinable_timestamp_with_gps\", \n",
    "    right_on=\"lsl_timestamp\", \n",
    "    how=\"left\",\n",
    "    suffixes = (\"_etd\", \"_gps\")\n",
    ")\n",
    "etd_joined_gps_df = etd_joined_gps_df.drop(columns=[\"lsl_timestamp_gps\", \"joinable_timestamp_with_gps\"])\n",
    "etd_joined_gps_df = etd_joined_gps_df.rename(columns = {'lsl_timestamp_etd' : \"lsl_timestamp\"})"
   ]
  },
  {
   "cell_type": "code",
   "execution_count": 11,
   "metadata": {},
   "outputs": [],
   "source": []
  },
  {
   "cell_type": "markdown",
   "metadata": {
    "tags": []
   },
   "source": [
    "### from here forming the  one big table"
   ]
  },
  {
   "cell_type": "code",
   "execution_count": 12,
   "metadata": {
    "tags": []
   },
   "outputs": [],
   "source": []
  },
  {
   "cell_type": "code",
   "execution_count": 13,
   "metadata": {},
   "outputs": [],
   "source": [
    "def get_etd_gps_joinable_tst(eeg_tst, etd_joined_gps):\n",
    "    df = etd_joined_gps.loc[(etd_joined_gps[\"lsl_timestamp\"] <= eeg_tst) & (etd_joined_gps[\"next_lsl_timestamp\"] > eeg_tst)]\n",
    "    if df.empty:\n",
    "        return etd_joined_gps.loc[etd_joined_gps[\"lsl_timestamp\"] == etd_joined_gps[\"lsl_timestamp\"].max()][\"lsl_timestamp\"].values[0]\n",
    "    else: \n",
    "        return df[\"lsl_timestamp\"].values[0]\n"
   ]
  },
  {
   "cell_type": "code",
   "execution_count": 16,
   "metadata": {
    "tags": []
   },
   "outputs": [],
   "source": [
    "etd_joined_gps_df = etd_joined_gps_df.sort_values(by = \"lsl_timestamp\")\n",
    "etd_joined_gps_df[\"next_lsl_timestamp\"] = etd_joined_gps_df[\"lsl_timestamp\"].shift(-1)\n",
    "eeg[\"eeg_joinable_column_with_etd_gps\"] = eeg.apply(lambda row: get_etd_gps_joinable_tst(row[\"lsl_timestamp\"], etd_joined_gps_df), axis = 1)\n",
    "etd_gps_columns = [\n",
    "    \"eye_gaze_origin_x\",\n",
    "    \"eye_gaze_origin_y\",\n",
    "    \"eye_gaze_origin_z\",\n",
    "    \"eye_gaze_x\",\n",
    "    \"eye_gaze_y\",\n",
    "    \"eye_gaze_z\",\n",
    "    \"altitude\",\n",
    "    \"lsl_timestamp\",\n",
    "    'latitude', \n",
    "    \"longitude\",\n",
    "     \"accuracy\",\n",
    "    \"velocity\"\n",
    "    \n",
    "]\n",
    "eeg_etd_gps = eeg.merge(\n",
    "     etd_joined_gps_df[etd_gps_columns], \n",
    "    left_on=\"eeg_joinable_column_with_etd_gps\", \n",
    "    right_on=\"lsl_timestamp\", \n",
    "    how=\"left\",\n",
    "    suffixes = (\"_eeg\", \"_etd_gps\")\n",
    ")\n",
    "eeg_etd_gps = eeg_etd_gps.drop(columns= [\"eeg_joinable_column_with_etd_gps\", \"lsl_timestamp_etd_gps\"])\n",
    "eeg_etd_gps = eeg_etd_gps.rename(columns = {\"lsl_timestamp_eeg\": \"lsl_timestamp\" })"
   ]
  },
  {
   "cell_type": "code",
   "execution_count": 7,
   "metadata": {},
   "outputs": [],
   "source": [
    "\"\"\" merging etd and eeg \"\"\"\n",
    "etd = etd.sort_values(by = \"lsl_timestamp\")\n",
    "etd[\"next_lsl_timestamp\"] = etd[\"lsl_timestamp\"].shift(-1)\n"
   ]
  },
  {
   "cell_type": "code",
   "execution_count": 8,
   "metadata": {},
   "outputs": [],
   "source": [
    "def get_etd_lsl_tst_join(ts_eeg, etd_df):\n",
    "    df = etd_df.loc[(etd_df[\"lsl_timestamp\"] <= ts_eeg) & (ts_eeg < etd_df[\"next_lsl_timestamp\"])]\n",
    "    if df.empty:\n",
    "        return etd_df.loc[etd_df[\"lsl_timestamp\"] == etd_df[\"lsl_timestamp\"].max()][\"lsl_timestamp\"].values[0]\n",
    "    else:\n",
    "        return df[\"lsl_timestamp\"].values[0]"
   ]
  },
  {
   "cell_type": "code",
   "execution_count": 9,
   "metadata": {
    "tags": []
   },
   "outputs": [],
   "source": [
    "eeg[\"joinable_timestamp_with_etd\"] = eeg.apply(lambda row: get_etd_lsl_tst_join(row[\"lsl_timestamp\"], etd), axis=1)"
   ]
  },
  {
   "cell_type": "code",
   "execution_count": 12,
   "metadata": {},
   "outputs": [],
   "source": [
    "cols_to_select_from_etd_df = [\n",
    "    \"lsl_timestamp\",\n",
    "    \"eye_gaze_origin_x\",\n",
    "    \"eye_gaze_origin_y\",\n",
    "    \"eye_gaze_origin_z\",\n",
    "    \"eye_gaze_x\",\n",
    "    \"eye_gaze_y\",\n",
    "    \"eye_gaze_z\",\n",
    "]\n",
    "\n",
    "eeg_joined_etd_df = eeg.merge(\n",
    "    etd[cols_to_select_from_etd_df], \n",
    "    left_on=\"joinable_timestamp_with_etd\", \n",
    "    right_on=\"lsl_timestamp\", \n",
    "    how=\"left\",\n",
    "    suffixes = (\"_eeg\", \"_etd\")\n",
    ")\n",
    "eeg_joined_etd_df = eeg_joined_etd_df.drop(columns=[\"lsl_timestamp_etd\", \"joinable_timestamp_with_etd\"])\n",
    "eeg_joined_etd_df = eeg_joined_etd_df.rename(columns = {'lsl_timestamp_eeg' : \"lsl_timestamp\"})"
   ]
  },
  {
   "cell_type": "code",
   "execution_count": 13,
   "metadata": {
    "tags": []
   },
   "outputs": [
    {
     "name": "stdout",
     "output_type": "stream",
     "text": [
      "<class 'pandas.core.frame.DataFrame'>\n",
      "Int64Index: 193256 entries, 0 to 193255\n",
      "Data columns (total 18 columns):\n",
      " #   Column                  Non-Null Count   Dtype  \n",
      "---  ------                  --------------   -----  \n",
      " 0   lsl_timestamp           193256 non-null  float64\n",
      " 1   eeg_value_1             193256 non-null  float32\n",
      " 2   eeg_value_2             193256 non-null  float32\n",
      " 3   eeg_value_3             193256 non-null  float32\n",
      " 4   eeg_value_4             193256 non-null  float32\n",
      " 5   eeg_value_5             193256 non-null  float32\n",
      " 6   eeg_value_6             193256 non-null  float32\n",
      " 7   eeg_value_7             193256 non-null  float32\n",
      " 8   experiment_date         193256 non-null  object \n",
      " 9   participant_id          193256 non-null  object \n",
      " 10  experiment_nr           193256 non-null  int64  \n",
      " 11  experiment_location_id  193256 non-null  object \n",
      " 12  eye_gaze_origin_x       167240 non-null  float64\n",
      " 13  eye_gaze_origin_y       167240 non-null  float64\n",
      " 14  eye_gaze_origin_z       167240 non-null  float64\n",
      " 15  eye_gaze_x              167240 non-null  float64\n",
      " 16  eye_gaze_y              167240 non-null  float64\n",
      " 17  eye_gaze_z              167240 non-null  float64\n",
      "dtypes: float32(7), float64(7), int64(1), object(3)\n",
      "memory usage: 27.9+ MB\n"
     ]
    }
   ],
   "source": [
    "eeg_joined_etd_df.info()"
   ]
  },
  {
   "cell_type": "code",
   "execution_count": 14,
   "metadata": {},
   "outputs": [],
   "source": [
    "eeg_joined_etd_df['lat'] = "
   ]
  },
  {
   "cell_type": "code",
   "execution_count": 17,
   "metadata": {},
   "outputs": [
    {
     "data": {
      "text/html": [
       "<div>\n",
       "<style scoped>\n",
       "    .dataframe tbody tr th:only-of-type {\n",
       "        vertical-align: middle;\n",
       "    }\n",
       "\n",
       "    .dataframe tbody tr th {\n",
       "        vertical-align: top;\n",
       "    }\n",
       "\n",
       "    .dataframe thead th {\n",
       "        text-align: right;\n",
       "    }\n",
       "</style>\n",
       "<table border=\"1\" class=\"dataframe\">\n",
       "  <thead>\n",
       "    <tr style=\"text-align: right;\">\n",
       "      <th></th>\n",
       "      <th>lsl_timestamp</th>\n",
       "      <th>eeg_value_1</th>\n",
       "      <th>eeg_value_2</th>\n",
       "      <th>eeg_value_3</th>\n",
       "      <th>eeg_value_4</th>\n",
       "      <th>eeg_value_5</th>\n",
       "      <th>eeg_value_6</th>\n",
       "      <th>eeg_value_7</th>\n",
       "      <th>experiment_date</th>\n",
       "      <th>participant_id</th>\n",
       "      <th>experiment_nr</th>\n",
       "      <th>experiment_location_id</th>\n",
       "      <th>eye_gaze_origin_x</th>\n",
       "      <th>eye_gaze_origin_y</th>\n",
       "      <th>eye_gaze_origin_z</th>\n",
       "      <th>eye_gaze_x</th>\n",
       "      <th>eye_gaze_y</th>\n",
       "      <th>eye_gaze_z</th>\n",
       "      <th>lat</th>\n",
       "    </tr>\n",
       "  </thead>\n",
       "  <tbody>\n",
       "    <tr>\n",
       "      <th>0</th>\n",
       "      <td>9042.991083</td>\n",
       "      <td>4.441718</td>\n",
       "      <td>-9.139711</td>\n",
       "      <td>-2.137319</td>\n",
       "      <td>1.556978</td>\n",
       "      <td>-40.239429</td>\n",
       "      <td>-20.978626</td>\n",
       "      <td>-15.485593</td>\n",
       "      <td>2021-10-05</td>\n",
       "      <td>KZ</td>\n",
       "      <td>2</td>\n",
       "      <td>Rytle</td>\n",
       "      <td>-0.229819</td>\n",
       "      <td>-0.177579</td>\n",
       "      <td>-0.956896</td>\n",
       "      <td>-46.55487</td>\n",
       "      <td>-9.13602</td>\n",
       "      <td>-509.8745</td>\n",
       "      <td>None</td>\n",
       "    </tr>\n",
       "    <tr>\n",
       "      <th>1</th>\n",
       "      <td>9042.995083</td>\n",
       "      <td>8.273370</td>\n",
       "      <td>-4.722237</td>\n",
       "      <td>-1.185792</td>\n",
       "      <td>-9.840579</td>\n",
       "      <td>-37.528236</td>\n",
       "      <td>-14.298180</td>\n",
       "      <td>-22.497044</td>\n",
       "      <td>2021-10-05</td>\n",
       "      <td>KZ</td>\n",
       "      <td>2</td>\n",
       "      <td>Rytle</td>\n",
       "      <td>-0.229819</td>\n",
       "      <td>-0.177579</td>\n",
       "      <td>-0.956896</td>\n",
       "      <td>-46.55487</td>\n",
       "      <td>-9.13602</td>\n",
       "      <td>-509.8745</td>\n",
       "      <td>None</td>\n",
       "    </tr>\n",
       "    <tr>\n",
       "      <th>2</th>\n",
       "      <td>9042.999083</td>\n",
       "      <td>14.155184</td>\n",
       "      <td>4.059216</td>\n",
       "      <td>2.347409</td>\n",
       "      <td>-12.991497</td>\n",
       "      <td>-32.086842</td>\n",
       "      <td>-5.399246</td>\n",
       "      <td>-27.876507</td>\n",
       "      <td>2021-10-05</td>\n",
       "      <td>KZ</td>\n",
       "      <td>2</td>\n",
       "      <td>Rytle</td>\n",
       "      <td>-0.229819</td>\n",
       "      <td>-0.177579</td>\n",
       "      <td>-0.956896</td>\n",
       "      <td>-46.55487</td>\n",
       "      <td>-9.13602</td>\n",
       "      <td>-509.8745</td>\n",
       "      <td>None</td>\n",
       "    </tr>\n",
       "    <tr>\n",
       "      <th>3</th>\n",
       "      <td>9043.003083</td>\n",
       "      <td>20.673042</td>\n",
       "      <td>15.660712</td>\n",
       "      <td>7.396507</td>\n",
       "      <td>-6.706311</td>\n",
       "      <td>-24.661154</td>\n",
       "      <td>4.322580</td>\n",
       "      <td>-30.333467</td>\n",
       "      <td>2021-10-05</td>\n",
       "      <td>KZ</td>\n",
       "      <td>2</td>\n",
       "      <td>Rytle</td>\n",
       "      <td>-0.229819</td>\n",
       "      <td>-0.177579</td>\n",
       "      <td>-0.956896</td>\n",
       "      <td>-46.55487</td>\n",
       "      <td>-9.13602</td>\n",
       "      <td>-509.8745</td>\n",
       "      <td>None</td>\n",
       "    </tr>\n",
       "    <tr>\n",
       "      <th>4</th>\n",
       "      <td>9043.007083</td>\n",
       "      <td>24.219883</td>\n",
       "      <td>25.383415</td>\n",
       "      <td>10.560529</td>\n",
       "      <td>4.460753</td>\n",
       "      <td>-18.712088</td>\n",
       "      <td>11.537330</td>\n",
       "      <td>-30.614294</td>\n",
       "      <td>2021-10-05</td>\n",
       "      <td>KZ</td>\n",
       "      <td>2</td>\n",
       "      <td>Rytle</td>\n",
       "      <td>-0.229819</td>\n",
       "      <td>-0.177579</td>\n",
       "      <td>-0.956896</td>\n",
       "      <td>-46.55487</td>\n",
       "      <td>-9.13602</td>\n",
       "      <td>-509.8745</td>\n",
       "      <td>None</td>\n",
       "    </tr>\n",
       "  </tbody>\n",
       "</table>\n",
       "</div>"
      ],
      "text/plain": [
       "   lsl_timestamp  eeg_value_1  eeg_value_2  eeg_value_3  eeg_value_4  \\\n",
       "0    9042.991083     4.441718    -9.139711    -2.137319     1.556978   \n",
       "1    9042.995083     8.273370    -4.722237    -1.185792    -9.840579   \n",
       "2    9042.999083    14.155184     4.059216     2.347409   -12.991497   \n",
       "3    9043.003083    20.673042    15.660712     7.396507    -6.706311   \n",
       "4    9043.007083    24.219883    25.383415    10.560529     4.460753   \n",
       "\n",
       "   eeg_value_5  eeg_value_6  eeg_value_7 experiment_date participant_id  \\\n",
       "0   -40.239429   -20.978626   -15.485593      2021-10-05             KZ   \n",
       "1   -37.528236   -14.298180   -22.497044      2021-10-05             KZ   \n",
       "2   -32.086842    -5.399246   -27.876507      2021-10-05             KZ   \n",
       "3   -24.661154     4.322580   -30.333467      2021-10-05             KZ   \n",
       "4   -18.712088    11.537330   -30.614294      2021-10-05             KZ   \n",
       "\n",
       "   experiment_nr experiment_location_id  eye_gaze_origin_x  eye_gaze_origin_y  \\\n",
       "0              2                  Rytle          -0.229819          -0.177579   \n",
       "1              2                  Rytle          -0.229819          -0.177579   \n",
       "2              2                  Rytle          -0.229819          -0.177579   \n",
       "3              2                  Rytle          -0.229819          -0.177579   \n",
       "4              2                  Rytle          -0.229819          -0.177579   \n",
       "\n",
       "   eye_gaze_origin_z  eye_gaze_x  eye_gaze_y  eye_gaze_z   lat  \n",
       "0          -0.956896   -46.55487    -9.13602   -509.8745  None  \n",
       "1          -0.956896   -46.55487    -9.13602   -509.8745  None  \n",
       "2          -0.956896   -46.55487    -9.13602   -509.8745  None  \n",
       "3          -0.956896   -46.55487    -9.13602   -509.8745  None  \n",
       "4          -0.956896   -46.55487    -9.13602   -509.8745  None  "
      ]
     },
     "execution_count": 17,
     "metadata": {},
     "output_type": "execute_result"
    }
   ],
   "source": [
    "eeg_joined_etd_df.head()"
   ]
  },
  {
   "cell_type": "code",
   "execution_count": 22,
   "metadata": {},
   "outputs": [],
   "source": [
    "\"\"\" explaratory data analysis\"\"\"\n",
    "df_vis = dtale.show(eeg_etd_gps)\n",
    "df_vis.open_browser()"
   ]
  },
  {
   "cell_type": "code",
   "execution_count": 21,
   "metadata": {},
   "outputs": [],
   "source": [
    "def create_fact_df(etd: pd.DataFrame, eeg: pd.DataFrame, gps: pd.DataFrame ) -> pd.DataFrame:\n",
    "    \"\"\"\n",
    "\n",
    "    Args:\n",
    "        etd:\n",
    "        eeg:\n",
    "        gps:\n",
    "\n",
    "    Returns:\n",
    "\n",
    "    \"\"\"\n",
    "\n",
    "\n",
    "    return None\n",
    "#  Step1: insert gps data with one row dataframe where gps data is missing\n",
    "# step2: similarly in the fact data also insert the 4 constraints at  the end not at the beginning"
   ]
  }
 ],
 "metadata": {
  "kernelspec": {
   "display_name": "Python 3 (ipykernel)",
   "language": "python",
   "name": "python3"
  },
  "language_info": {
   "codemirror_mode": {
    "name": "ipython",
    "version": 3
   },
   "file_extension": ".py",
   "mimetype": "text/x-python",
   "name": "python",
   "nbconvert_exporter": "python",
   "pygments_lexer": "ipython3",
   "version": "3.8.10"
  }
 },
 "nbformat": 4,
 "nbformat_minor": 4
}
