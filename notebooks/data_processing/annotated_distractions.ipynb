{
 "cells": [
  {
   "cell_type": "code",
   "execution_count": 1,
   "id": "5ca849ed-1dcf-42c3-b02a-52b4c4903a34",
   "metadata": {},
   "outputs": [],
   "source": [
    "import sys\n",
    "sys.path.append('/home/harish/GitRepos/Smart_Helm/')\n",
    "import pyxdf\n",
    "import pandas as pd\n",
    "from datetime import datetime, timedelta, date\n",
    "from data_processing.raw_data_parser import *\n",
    "from data_processing.fact_prep import *\n",
    "import numpy as np"
   ]
  },
  {
   "cell_type": "code",
   "execution_count": 3,
   "id": "bf021779-942b-4299-803c-d03f7bee8901",
   "metadata": {},
   "outputs": [],
   "source": [
    "annotated_distractions_df = pd.read_csv(\"./test_files/annotated.csv\")\n",
    "annotated_distractions_df = annotated_distractions_df.rename(columns={\"distraction_start\": \"start_lsl\"})"
   ]
  },
  {
   "cell_type": "code",
   "execution_count": null,
   "id": "51ee642c-919d-45d9-8a98-b9f55b145cd8",
   "metadata": {},
   "outputs": [],
   "source": [
    "data_streams, header  = pyxdf.load_xdf(\"./test_files/Rytle_KZ_02.xdf\")"
   ]
  },
  {
   "cell_type": "markdown",
   "id": "f43d6041-6227-413e-a118-5c4c4f87fe3d",
   "metadata": {},
   "source": [
    "## Goal: creation of the visual distraction dimension table"
   ]
  },
  {
   "cell_type": "markdown",
   "id": "c6679fc5-bd40-4f0d-b0d4-27e6fe4b6968",
   "metadata": {},
   "source": [
    "### TODO 1: (Extraction step) extraction of the annotated distractions from the Minio"
   ]
  },
  {
   "cell_type": "markdown",
   "id": "ceed5894-7dbb-4b6a-87ed-e86f3ee2e2a7",
   "metadata": {},
   "source": [
    "### TODO 2: Transformation of the annotations "
   ]
  },
  {
   "cell_type": "markdown",
   "id": "3d7287cf-41b4-4212-b462-0b50cb61ef74",
   "metadata": {},
   "source": [
    "#### step1: fetch the data from the minio:"
   ]
  },
  {
   "cell_type": "markdown",
   "id": "2d2c0a34-4b75-4179-baed-b6703a1179b1",
   "metadata": {},
   "source": [
    "#### final schema of the visual distraction dimension table\n",
    "| name | datatype | is_nullable | value |\n",
    "| -- | -- | -- | -- |\n",
    "| start_lsl | float64 | True | 3838.634852 |\n",
    "| end_lsl | float64 | True | 3844.528151 |\n",
    "| is_visual | boolean | True | True |\n",
    "| experiment_date | date | False | 2021-01-01 |\n",
    "| participant_id | str | False | 'BC' |\n",
    "| experiment_nr | int | False | 1 |\n",
    "| experiment_location_id | str | False | 'CSL' |"
   ]
  },
  {
   "cell_type": "markdown",
   "id": "3f1dd051-511a-453b-96a5-f0fa0992433a",
   "metadata": {},
   "source": [
    "##### METHOD\n",
    "generate a column `next_lsltimestamp` to check where the annotated distractions fall in between. the from this point to the next 4 seconds (i. 4 * 30 hz 120 timestamps) a newcolumn with bool expression True/False created, \n",
    "* TODO1: a column  which specifies the annotation end time i.e from the coinciding start time to the end\n",
    "* TODO2: in between the start to end a new column should genrated to give a bool expression say TRue or false"
   ]
  },
  {
   "cell_type": "markdown",
   "id": "cbdb62a2-0ade-4883-a1ac-9587943c74f2",
   "metadata": {},
   "source": [
    "### TODO 3: Loading i.e populating into the db\n",
    "   "
   ]
  },
  {
   "cell_type": "code",
   "execution_count": 35,
   "id": "999cf499-2d95-45ab-927a-c0357fb907a6",
   "metadata": {},
   "outputs": [],
   "source": [
    "etd_df, exp_dt = transform_etd(\"./test_files/Rytle_J_02.xdf\", \"Rytle/2021/10/07/KZ/02/raw_eeg/sub-P001_ses-S001_task-Default_run-001_eeg.xdf\")\n",
    "experiment_location_id, participant_id, experiment_nr = get_experiment_details(\"Rytle/2021/10/07/KZ/02/raw_eeg/sub-P001_ses-S001_task-Default_run-001_eeg.xdf\")"
   ]
  },
  {
   "cell_type": "code",
   "execution_count": null,
   "id": "08db159e-fb2c-4090-ad50-949ee706601e",
   "metadata": {},
   "outputs": [],
   "source": [
    "ele = \"Rytle/2021/10/05/G/01/annotated_distractions/visual.csv\""
   ]
  },
  {
   "cell_type": "code",
   "execution_count": null,
   "id": "accbe064-5586-4d69-828d-b896c20da77c",
   "metadata": {},
   "outputs": [],
   "source": [
    "parent_path, child_path = ele.split(\"annotated_distractions\")"
   ]
  },
  {
   "cell_type": "code",
   "execution_count": null,
   "id": "ab1d9db6-9217-418b-b5ef-1b26cf3e4cdd",
   "metadata": {},
   "outputs": [],
   "source": [
    "parent_path"
   ]
  },
  {
   "cell_type": "code",
   "execution_count": null,
   "id": "e06f9c1e-0747-4c6e-a5fd-80f4454592a3",
   "metadata": {},
   "outputs": [],
   "source": [
    "child_path"
   ]
  },
  {
   "cell_type": "markdown",
   "id": "87508c7f-d073-403c-8407-457305f1d340",
   "metadata": {},
   "source": [
    "\n",
    "--> implement two functions \n",
    "--> first fn from the example input to intermediate output\n",
    "--> second fn from intermediate to final "
   ]
  },
  {
   "cell_type": "markdown",
   "id": "77dbcd48-b8ca-4aab-b3a9-8c61cf3a8219",
   "metadata": {},
   "source": [
    "#### we need to merge the above time_windows with the following conditions\n",
    "1. they should be of the same type of distraction\n",
    "2. the time windows should overlap    \n",
    "\n",
    "example input:   \n",
    "\n",
    "| start_lsl | end_lsl | is_visual |\n",
    "| -- | -- | -- |\n",
    "| 2 | 6 | True | \n",
    "| 12 | 16 | True |\n",
    "| 6 | 10 | True | \n",
    "| 7 | 11 | True | \n",
    "\n",
    " \n",
    "\n",
    "example output:    \n",
    "\n",
    "| start_lsl | end_lsl | is_visual |\n",
    "| -- | -- | -- |\n",
    "| 2 | 11 | True | \n",
    "| 12 | 16 | True | "
   ]
  },
  {
   "cell_type": "code",
   "execution_count": null,
   "id": "d66e164b-c53c-4323-a133-0838f0f4a025",
   "metadata": {},
   "outputs": [],
   "source": [
    "example_input_df = pd.DataFrame(\n",
    "    {\n",
    "        \"start_lsl\": [2,12,6,7,13,20], \n",
    "        \"end_lsl\": [6,16,10,11, 17, 24]   \n",
    "    }                            \n",
    ")"
   ]
  },
  {
   "cell_type": "code",
   "execution_count": null,
   "id": "764b9178-8c18-4d4a-9cd0-fdfbce8de5d3",
   "metadata": {},
   "outputs": [],
   "source": [
    "example_output_df = pd.DataFrame(\n",
    "    {\n",
    "        \"start_lsl\": [2,12,20], \n",
    "        \"end_lsl\": [11,16,24]\n",
    "    }                            \n",
    ")"
   ]
  },
  {
   "cell_type": "code",
   "execution_count": null,
   "id": "c7731e4c-3a9e-4ad8-8c94-710ab85234e4",
   "metadata": {
    "jupyter": {
     "source_hidden": true
    },
    "tags": []
   },
   "outputs": [],
   "source": [
    "def transform(df):\n",
    "    \"\"\"The main goal of this function is to \"reduce\" the number of rows and \"merge\" all those time windows\n",
    "    where the distraction is \"continuous\" e.g.\n",
    "                start      end\n",
    "    event 1:    10         14\n",
    "    event 2:    12         16\n",
    "    event 3:    20         24\n",
    "\n",
    "    then the final output should be:\n",
    "                start      end\n",
    "    event 1:    10         16\n",
    "    event 3:    20         24\n",
    "    \"\"\"\n",
    "\n",
    "    # sort the whole data wrt `start_lsl` - so that we can use `rolling` in the next step\n",
    "    df.sort_values(by=\"start_lsl\", inplace=True)\n",
    "\n",
    "\n",
    "    # identify the rows which belong to the same group - assign a `group_number` to each group present in the data\n",
    "    group_number = 1\n",
    "    df[\"group\"] = group_number\n",
    "    for df_window in df.rolling(window=2):\n",
    "        # reset the index here for each window so that we can fetch the values below always \n",
    "        # using 0 for the first row and 1 for the second row\n",
    "        df_window.reset_index(inplace=True)\n",
    "        if len(df_window) > 1:\n",
    "            interval_1 = pd.Interval(df_window.loc[0, \"start_lsl\"], df_window.loc[0, \"end_lsl\"], closed=\"both\")\n",
    "            interval_2 = pd.Interval(df_window.loc[1, \"start_lsl\"], df_window.loc[1, \"end_lsl\"], closed=\"both\")\n",
    "            if interval_1.overlaps(interval_2):\n",
    "                # if overlap happens then get all the indices, using the `index` column of the original (parent or main) dataframe\n",
    "                # and fill those rows in the main dataframe with the detected group number\n",
    "                indices_of_groups = list(df_window[\"index\"])\n",
    "                df.loc[indices_of_groups, \"group\"] = group_number\n",
    "            else:\n",
    "                group_number = group_number + 1\n",
    "                index_of_new_group = df_window.loc[1, \"index\"]\n",
    "                df.loc[index_of_new_group, \"group\"] = group_number\n",
    "\n",
    "\n",
    "    # aggregate using simple `groupby` - keeping the `start_lsl` as the `start_lsl` of the first (minimum) member of a group\n",
    "    # and `end_lsl` of the last (maximum) member of the same group\n",
    "    # do the same for all groups separately\n",
    "    df = df.groupby(by=\"group\").agg({\"start_lsl\": min, \"end_lsl\": max}).reset_index(drop=True)\n",
    "\n",
    "    return df"
   ]
  },
  {
   "cell_type": "code",
   "execution_count": null,
   "id": "eee6b842-7b96-459f-be98-f298f59da7ee",
   "metadata": {},
   "outputs": [],
   "source": [
    "pd.testing.assert_frame_equal(transform2(example_input_df), example_output_df)"
   ]
  },
  {
   "cell_type": "code",
   "execution_count": null,
   "id": "f31490e3-dd48-429e-87a9-e4fc6d580d5a",
   "metadata": {},
   "outputs": [],
   "source": []
  },
  {
   "cell_type": "code",
   "execution_count": null,
   "id": "4a9fd552-a7dd-45df-a48a-c787b1028024",
   "metadata": {},
   "outputs": [],
   "source": [
    "#transform(annotated_distractions_df)"
   ]
  },
  {
   "cell_type": "code",
   "execution_count": null,
   "id": "075843b2-092b-49a0-9d1a-7b4a6a83aeb7",
   "metadata": {},
   "outputs": [],
   "source": [
    "visual_df = transform_visual_distraction(annotated_distractions_df, exp_dt)"
   ]
  },
  {
   "cell_type": "code",
   "execution_count": null,
   "id": "5a0acc05-061d-4eb6-82ce-6dfa88a9d6c9",
   "metadata": {},
   "outputs": [],
   "source": [
    "visual_df[\"start_lsl\"].min()"
   ]
  },
  {
   "cell_type": "markdown",
   "id": "10a05b0f-dccb-4d79-b67f-0fe25a22308b",
   "metadata": {},
   "source": [
    "## Goal2: integrate the above information finally to fact data table"
   ]
  },
  {
   "cell_type": "code",
   "execution_count": null,
   "id": "90170c24-2df5-46d5-adaf-9181881219b3",
   "metadata": {},
   "outputs": [],
   "source": [
    "visual_df.loc[visual_df[\"start_lsl\"] == visual_df[\"start_lsl\"].min()][\"start_lsl\"].values[0]"
   ]
  },
  {
   "cell_type": "code",
   "execution_count": 6,
   "id": "d5320375-133a-4453-9860-8c2e0c162bba",
   "metadata": {},
   "outputs": [
    {
     "data": {
      "text/plain": [
       "3830.63485188579"
      ]
     },
     "execution_count": 6,
     "metadata": {},
     "output_type": "execute_result"
    }
   ],
   "source": [
    "get_visual_dis_lsl_tst_join(etd_df[\"lsl_timestamp\"][10000], visual_df)"
   ]
  },
  {
   "cell_type": "code",
   "execution_count": 36,
   "id": "0304a2e6-8e3c-4e38-a275-591e3d25ee2c",
   "metadata": {},
   "outputs": [],
   "source": [
    "eeg_df = transform_eeg(\"./test_files/Rytle_J_02.xdf\", exp_dt,\"Rytle/2021/10/07/KZ/02/raw_eeg/sub-P001_ses-S001_task-Default_run-001_eeg.xdf\")\n",
    "gps_df = transform_gps_xdf(\"./test_files/Rytle_J_02.xdf\", exp_dt, \"Rytle/2021/10/07/KZ/02/raw_eeg/sub-P001_ses-S001_task-Default_run-001_eeg.xdf\")\n",
    "visual_df = transform_visual_distractions(\"./test_files/annotated.csv\", exp_dt, \"Rytle/2021/10/07/KZ/02/raw_eeg/sub-P001_ses-S001_task-Default_run-001_eeg.xdf\")"
   ]
  },
  {
   "cell_type": "code",
   "execution_count": 37,
   "id": "6221a975-12bd-4459-b414-3c7ca0c9a7bc",
   "metadata": {},
   "outputs": [],
   "source": [
    "fact_df = create_fact_df(eeg_df, etd_df, gps_df)"
   ]
  },
  {
   "cell_type": "code",
   "execution_count": 34,
   "id": "0caa6599-8042-428a-8ae4-9107d63097f8",
   "metadata": {},
   "outputs": [
    {
     "data": {
      "text/html": [
       "<div>\n",
       "<style scoped>\n",
       "    .dataframe tbody tr th:only-of-type {\n",
       "        vertical-align: middle;\n",
       "    }\n",
       "\n",
       "    .dataframe tbody tr th {\n",
       "        vertical-align: top;\n",
       "    }\n",
       "\n",
       "    .dataframe thead th {\n",
       "        text-align: right;\n",
       "    }\n",
       "</style>\n",
       "<table border=\"1\" class=\"dataframe\">\n",
       "  <thead>\n",
       "    <tr style=\"text-align: right;\">\n",
       "      <th></th>\n",
       "      <th>start_lsl</th>\n",
       "      <th>end_lsl</th>\n",
       "      <th>is_visual</th>\n",
       "      <th>experiment_date</th>\n",
       "      <th>experiment_location_id</th>\n",
       "      <th>participant_id</th>\n",
       "      <th>experiment_nr</th>\n",
       "    </tr>\n",
       "  </thead>\n",
       "  <tbody>\n",
       "  </tbody>\n",
       "</table>\n",
       "</div>"
      ],
      "text/plain": [
       "Empty DataFrame\n",
       "Columns: [start_lsl, end_lsl, is_visual, experiment_date, experiment_location_id, participant_id, experiment_nr]\n",
       "Index: []"
      ]
     },
     "execution_count": 34,
     "metadata": {},
     "output_type": "execute_result"
    }
   ],
   "source": [
    "visual_df"
   ]
  },
  {
   "cell_type": "code",
   "execution_count": 44,
   "id": "3a6c04c7-65a8-4add-a2f0-09e51e42a247",
   "metadata": {},
   "outputs": [
    {
     "data": {
      "text/plain": [
       "count    162128.000000\n",
       "mean       5463.628109\n",
       "std         187.206888\n",
       "min        5139.418317\n",
       "25%        5301.542562\n",
       "50%        5463.645665\n",
       "75%        5625.681789\n",
       "max        5787.918815\n",
       "Name: eeg_joinable_column_with_etd_gps, dtype: float64"
      ]
     },
     "execution_count": 44,
     "metadata": {},
     "output_type": "execute_result"
    }
   ],
   "source": [
    "fact_df[\"eeg_joinable_column_with_etd_gps\"].describe()"
   ]
  },
  {
   "cell_type": "code",
   "execution_count": 38,
   "id": "93aa3a89-1a61-4d1d-9ed1-aba0d67cfadd",
   "metadata": {},
   "outputs": [],
   "source": [
    "def get_vis(row, visual_df):\n",
    "    o = visual_df.loc[(visual_df[\"start_lsl\"] <= row[\"eeg_joinable_column_with_etd_gps\"]) & (row[\"eeg_joinable_column_with_etd_gps\"] <= visual_df[\"end_lsl\"])][\"is_visual\"]\n",
    "    return True if len(o) else False"
   ]
  },
  {
   "cell_type": "code",
   "execution_count": 39,
   "id": "99bd44c1-2854-4008-9ca9-33a3726f8676",
   "metadata": {},
   "outputs": [],
   "source": [
    "fact_df[\"is_visual\"] = fact_df.apply(get_vis, args=(visual_df,), axis=1)"
   ]
  },
  {
   "cell_type": "code",
   "execution_count": 48,
   "id": "da547625-7694-4a85-8bef-4d70fc37e8fe",
   "metadata": {},
   "outputs": [
    {
     "data": {
      "text/plain": [
       "False    155088\n",
       "True       7040\n",
       "Name: is_visual, dtype: int64"
      ]
     },
     "execution_count": 48,
     "metadata": {},
     "output_type": "execute_result"
    }
   ],
   "source": [
    "fact_df[\"is_visual\"].value_counts()"
   ]
  },
  {
   "cell_type": "code",
   "execution_count": 16,
   "id": "2700640e-c3f3-4b11-82ba-3dbb09213267",
   "metadata": {},
   "outputs": [
    {
     "data": {
      "text/plain": [
       "count    185248.000000\n",
       "mean          4.074095\n",
       "std           4.547710\n",
       "min           0.000000\n",
       "25%           0.000000\n",
       "50%           2.000000\n",
       "75%           8.000000\n",
       "max          16.000000\n",
       "Name: velocity, dtype: float64"
      ]
     },
     "execution_count": 16,
     "metadata": {},
     "output_type": "execute_result"
    }
   ],
   "source": [
    "fact_df[\"velocity\"].ddescribecribe()"
   ]
  },
  {
   "cell_type": "markdown",
   "id": "851e1632-6613-48df-aa28-c167f7365b0c",
   "metadata": {},
   "source": [
    "fact dataframe:   \n",
    "\n",
    "| eeg | lsl_tst | etd | gps |\n",
    "| -- | -- | -- | -- | \n",
    "| 2 | 6 | 7 | 2 |\n",
    "| 12 | 16 | 8 | 3 |\n",
    "| 6 | 10 | 9 | 3 |\n",
    "| 7 | 11 | 10 | 3 |"
   ]
  },
  {
   "cell_type": "markdown",
   "id": "286ff230-131c-4a05-9cf2-a4f46881504c",
   "metadata": {},
   "source": [
    "* visual_df *\n",
    "\n",
    "| start_lsl | end_lsl | is_visual |\n",
    "| -- | -- | -- |\n",
    "| 2 | 11 | True | \n",
    "| 12 | 16 | True | "
   ]
  },
  {
   "cell_type": "code",
   "execution_count": null,
   "id": "41814883-e784-4691-9c78-018a8531a071",
   "metadata": {},
   "outputs": [],
   "source": [
    "eeg_etd_gps_visual = eeg_etd_gps.merge(\n",
    "        visual_df[visual_columns],\n",
    "        left_on=\"eeg_joinable_column_with_etd_gps\",\n",
    "        right_on=\"start_lsl\",\n",
    "        how=\"left\",\n",
    "        suffixes=(\"_eeg\", \"_etd_gps\")\n",
    "    )"
   ]
  },
  {
   "cell_type": "code",
   "execution_count": 22,
   "id": "811a53ad-c0bf-422e-afb0-95b3955dd1b6",
   "metadata": {},
   "outputs": [],
   "source": [
    "def add(a, b = None):\n",
    "    return a + (b  if b else 0)\n",
    "    #return a + (b or 0)"
   ]
  },
  {
   "cell_type": "code",
   "execution_count": 23,
   "id": "57983187-b0ac-42ce-a4bb-e3e4685be0f9",
   "metadata": {},
   "outputs": [
    {
     "data": {
      "text/plain": [
       "4"
      ]
     },
     "execution_count": 23,
     "metadata": {},
     "output_type": "execute_result"
    }
   ],
   "source": [
    "add(4)"
   ]
  },
  {
   "cell_type": "code",
   "execution_count": 37,
   "id": "fc190c45-dbbe-4d76-b871-bc8e3b73689c",
   "metadata": {},
   "outputs": [
    {
     "data": {
      "text/plain": [
       "' '"
      ]
     },
     "execution_count": 37,
     "metadata": {},
     "output_type": "execute_result"
    }
   ],
   "source": [
    "{} and True or None or [] or 0.0 or \" \" or \"harish\""
   ]
  },
  {
   "cell_type": "code",
   "execution_count": null,
   "id": "53b6bebd-359f-4be9-8b72-77ad850a0b65",
   "metadata": {},
   "outputs": [],
   "source": []
  }
 ],
 "metadata": {
  "kernelspec": {
   "display_name": "Python 3 (ipykernel)",
   "language": "python",
   "name": "python3"
  },
  "language_info": {
   "codemirror_mode": {
    "name": "ipython",
    "version": 3
   },
   "file_extension": ".py",
   "mimetype": "text/x-python",
   "name": "python",
   "nbconvert_exporter": "python",
   "pygments_lexer": "ipython3",
   "version": "3.8.10"
  },
  "vp": {
   "vp_config_version": "1.0.0",
   "vp_menu_width": 273,
   "vp_note_display": true,
   "vp_note_width": 263,
   "vp_position": {
    "width": 541
   },
   "vp_section_display": false,
   "vp_signature": "VisualPython"
  }
 },
 "nbformat": 4,
 "nbformat_minor": 5
}
