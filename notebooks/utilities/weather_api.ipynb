{
 "cells": [
  {
   "cell_type": "code",
   "execution_count": 1,
   "id": "af8bdf21-cc41-4533-bf11-122a094c1927",
   "metadata": {},
   "outputs": [],
   "source": [
    "\"\"\"Visual crossing weather API\"\"\"\n",
    "import requests\n",
    "import os\n",
    "import pandas as pd"
   ]
  },
  {
   "cell_type": "code",
   "execution_count": 7,
   "id": "023aebde-109f-4554-9a6f-83461b1e8251",
   "metadata": {},
   "outputs": [],
   "source": [
    "\"\"\"trying to access the weather data from month of june year 2021\"\"\"\n",
    "\n",
    "import requests\n",
    "\n",
    "url = os.getenv(\"WEATHER_API\")\n",
    "\n",
    "querystring = os.getenv(\"WEATHER_KEY\")\n",
    "\n",
    "payload = \"\"\n",
    "response = requests.request(\"GET\", url, data=payload, params=querystring)\n",
    "\n",
    "weather_json = response.json()\n",
    "#print sample value\n"
   ]
  },
  {
   "cell_type": "code",
   "execution_count": 11,
   "id": "df8f65a6-ca47-45fd-b90f-dfe5f55fb4b4",
   "metadata": {},
   "outputs": [
    {
     "name": "stdout",
     "output_type": "stream",
     "text": [
      "{'datetime': '15:00:00', 'datetimeEpoch': 1622725200, 'temp': 26.2, 'feelslike': 26.2, 'humidity': 50.26, 'dew': 15.1, 'precip': 0.0, 'precipprob': None, 'snow': None, 'snowdepth': None, 'preciptype': None, 'windgust': None, 'windspeed': 13.3, 'winddir': 174.0, 'pressure': 1018.6, 'visibility': 35.0, 'cloudcover': None, 'solarradiation': 482.0, 'solarenergy': 1.7, 'uvindex': 5.0, 'conditions': 'Clear', 'icon': 'clear-day', 'stations': ['E8845', '06157', '06159', '05839', '01503', '00963'], 'source': 'obs'}\n"
     ]
    }
   ],
   "source": [
    "\"\"\"jus printing one hour value from that\"\"\"\n",
    "temp_values_for_one = weather_json['days'][1]['hours'][15]\n",
    "print(temp_values_for_one)"
   ]
  },
  {
   "cell_type": "code",
   "execution_count": 12,
   "id": "80aafbb3-8c3e-41af-b34d-d8bb5ea23933",
   "metadata": {},
   "outputs": [
    {
     "name": "stdout",
     "output_type": "stream",
     "text": [
      "the weather parameter >> datetime  value == 15:00:00\n",
      "the weather parameter >> datetimeEpoch  value == 1622725200\n",
      "the weather parameter >> temp  value == 26.2\n",
      "the weather parameter >> feelslike  value == 26.2\n",
      "the weather parameter >> humidity  value == 50.26\n",
      "the weather parameter >> dew  value == 15.1\n",
      "the weather parameter >> precip  value == 0.0\n",
      "the weather parameter >> precipprob  value == None\n",
      "the weather parameter >> snow  value == None\n",
      "the weather parameter >> snowdepth  value == None\n",
      "the weather parameter >> preciptype  value == None\n",
      "the weather parameter >> windgust  value == None\n",
      "the weather parameter >> windspeed  value == 13.3\n",
      "the weather parameter >> winddir  value == 174.0\n",
      "the weather parameter >> pressure  value == 1018.6\n",
      "the weather parameter >> visibility  value == 35.0\n",
      "the weather parameter >> cloudcover  value == None\n",
      "the weather parameter >> solarradiation  value == 482.0\n",
      "the weather parameter >> solarenergy  value == 1.7\n",
      "the weather parameter >> uvindex  value == 5.0\n",
      "the weather parameter >> conditions  value == Clear\n",
      "the weather parameter >> icon  value == clear-day\n",
      "the weather parameter >> stations  value == ['E8845', '06157', '06159', '05839', '01503', '00963']\n",
      "the weather parameter >> source  value == obs\n",
      "decide the important parametrs, which needed to stored in the databank\n"
     ]
    }
   ],
   "source": [
    "\"sample hourly weather params detalis\"\n",
    "for k,v in temp_values_for_one.items():\n",
    "    print(\"the weather parameter >>\" , k , \" value ==\" , v)\n",
    "print(\"decide the important parametrs, which needed to stored in the databank\")"
   ]
  },
  {
   "cell_type": "code",
   "execution_count": 11,
   "id": "a8fedad5-a061-477f-bb71-61e99628a5a7",
   "metadata": {},
   "outputs": [
    {
     "name": "stdout",
     "output_type": "stream",
     "text": [
      "Therefore the required are as follows 1. datetime \\ 2.datetimeEpoch 3. temp 4. Humidity* 5. snow 6. windspeed* 7. visibility 8.  conditions \n"
     ]
    }
   ],
   "source": [
    "print(\"Therefore the required are as follows 1. datetime 2.datetimeEpoch 3. temp 4. Humidity* 5. snow 6. windspeed* 7. visibility 8.  conditions \") \n",
    "#Epoch time conversion tools are available. \n"
   ]
  },
  {
   "cell_type": "code",
   "execution_count": null,
   "id": "44dc5ee7-5851-4e07-98b7-96628cd91a3f",
   "metadata": {},
   "outputs": [],
   "source": []
  }
 ],
 "metadata": {
  "kernelspec": {
   "display_name": "Python 3 (ipykernel)",
   "language": "python",
   "name": "python3"
  },
  "language_info": {
   "codemirror_mode": {
    "name": "ipython",
    "version": 3
   },
   "file_extension": ".py",
   "mimetype": "text/x-python",
   "name": "python",
   "nbconvert_exporter": "python",
   "pygments_lexer": "ipython3",
   "version": "3.8.10"
  },
  "vp": {
   "vp_config_version": "1.0.0",
   "vp_menu_width": 273,
   "vp_note_display": false,
   "vp_note_width": 0,
   "vp_position": {
    "width": 278
   },
   "vp_section_display": false,
   "vp_signature": "VisualPython"
  }
 },
 "nbformat": 4,
 "nbformat_minor": 5
}
