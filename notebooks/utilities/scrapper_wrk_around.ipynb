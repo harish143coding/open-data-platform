{
 "cells": [
  {
   "cell_type": "code",
   "execution_count": 1,
   "id": "0a8dda8d-29f5-4ea5-91cb-8552174b0211",
   "metadata": {},
   "outputs": [],
   "source": [
    "import sys\n",
    "sys.path.append('/home/harish/GitRepos/Smart_Helm/')\n",
    "import os\n",
    "from typing import List\n",
    "from minio import Minio\n",
    "from collections import defaultdict\n",
    "import json\n",
    "from pathlib import *\n",
    "from typing import Dict, List\n",
    "from pathlib import Path\n",
    "from utilities.data_downloader import download"
   ]
  },
  {
   "cell_type": "code",
   "execution_count": 2,
   "id": "bc5484e8-7c58-466e-a1b2-9581c793066f",
   "metadata": {},
   "outputs": [],
   "source": [
    "bucket_name = \"smarthelm-data-accumulation-csl\"\n",
    "#bucket_name = \"my-bucket\"\n",
    "folder_path = \"CSL\""
   ]
  },
  {
   "cell_type": "code",
   "execution_count": 3,
   "id": "8438fce2-349d-40e3-8bf7-1f6aa56c1b47",
   "metadata": {},
   "outputs": [],
   "source": [
    "smarthelm_client = Minio(\n",
    "        \"smarthelm-nas.vlba.uni-oldenburg.de:9000\",\n",
    "        access_key=os.getenv(\"MINIO_ACCESS_KEY\"),\n",
    "        secret_key=os.getenv(\"MINIO_SECRET_KEY\"),\n",
    "        secure=False,\n",
    ")"
   ]
  },
  {
   "cell_type": "code",
   "execution_count": 4,
   "id": "85337b14-8fd3-4341-97c3-2b49b587df0e",
   "metadata": {},
   "outputs": [],
   "source": [
    "def scrap(folder_path: str, bucket_name: str) -> List[str]:\n",
    "    objects = smarthelm_client.list_objects(\n",
    "        bucket_name=bucket_name,\n",
    "        prefix=folder_path,\n",
    "        recursive=True\n",
    "    )\n",
    "    filepaths = [obj.object_name for obj in objects if obj.size > 10]\n",
    "    filtered_filepaths = [path for path in filepaths]\n",
    "#     for path in filepaths:\n",
    "#         if not any([ele in path for ele in EXCLUDED_FOLDERS]):\n",
    "#             filtered_filepaths.append(path)\n",
    "    return filtered_filepaths"
   ]
  },
  {
   "cell_type": "code",
   "execution_count": 5,
   "id": "39c26dc6-7ccd-4261-a66b-b4f7b6006c95",
   "metadata": {},
   "outputs": [],
   "source": [
    "file_paths = scrap(folder_path, bucket_name)"
   ]
  },
  {
   "cell_type": "code",
   "execution_count": 7,
   "id": "0db26dba-2eff-461b-801b-65dedfa5a0b1",
   "metadata": {},
   "outputs": [],
   "source": [
    "keys_list = [\"raw_eeg\", \"vision\" , \"location\"]\n",
    "# file_paths[0:6]"
   ]
  },
  {
   "cell_type": "code",
   "execution_count": 55,
   "id": "60b1f173-a3ea-46e7-8487-edff15b557ae",
   "metadata": {},
   "outputs": [],
   "source": [
    "d= {}\n",
    "for i in file_paths:\n",
    "    if x in keys_list == [y for y in i.split(\"/\")] :\n",
    "        parti_str = i.partition(x)\n",
    "        d[parti_str[0]] = {x: i}\n",
    "        #d = {parti_str[0]: {x: i}}\n"
   ]
  },
  {
   "cell_type": "code",
   "execution_count": 13,
   "id": "4d4e45bf-d134-4687-a3bc-0ed101c49094",
   "metadata": {},
   "outputs": [],
   "source": [
    "breakers = ['vision', 'raw_eeg', 'attention', 'location']\n",
    "j = []\n",
    "for i in file_paths:\n",
    "    if  i.split('/')[6] in breakers:\n",
    "        j.append(list(i.partition(i.split('/')[6])))\n",
    "    #d = {ele[0]: {ele[1]: i } for ele in j if PurePosixPath(j[0][0]) == PurePosixPath(j[1][0])}\n"
   ]
  },
  {
   "cell_type": "code",
   "execution_count": 14,
   "id": "ca745ab8-f152-4f25-b05f-91d88f6e135b",
   "metadata": {},
   "outputs": [],
   "source": [
    "d = {}\n",
    "for i in range(len(j) - 1):\n",
    "    d = {ele[0]: {ele[1]: PurePath(ele[0], ele[1], ele[2]) for i in j } for ele in j if PurePosixPath(j[i][0]) == PurePosixPath(j[i+ 1][0])}"
   ]
  },
  {
   "cell_type": "code",
   "execution_count": 68,
   "id": "11d970d3-a427-41fc-9f71-fc1d651dd2ba",
   "metadata": {},
   "outputs": [],
   "source": [
    "sample_input = [\n",
    "    'CSL/2021/08/24/MS/01/raw_eeg/sub-P001_MS1757_ses-S001_task-Default_run-001_eeg.xdf',\n",
    "    'CSL/2021/08/24/MS/01/location/smarthelm_gps.csv',\n",
    "    'CSL/2021/08/26/MS/01/location/smarthelm_gps.csv',\n",
    "    'CSL/2021/08/26/MS/01/raw_eeg/sub-P001_MS1_ses-S001_task-Default_run-001_eeg.xdf',\n",
    "]"
   ]
  },
  {
   "cell_type": "code",
   "execution_count": 103,
   "id": "75a61f06-f898-46e5-8f4e-e633c5aea984",
   "metadata": {},
   "outputs": [],
   "source": [
    "def get_dict_from_path(sample_input: List[str]) -> Dict[str, Dict[str, str]]:\n",
    "\n",
    "    parent_path_dict = {}\n",
    "\n",
    "    child_keys = [\n",
    "        \"raw_eeg\",\n",
    "        \"location\",\n",
    "        \"vision\",\n",
    "        \"attention/\",\n",
    "        \"speech/\",\n",
    "        \"ui_event\"\n",
    "    ]\n",
    "\n",
    "        \n",
    "    def _get_child_key(path):\n",
    "        for ck in child_keys:\n",
    "            if ck in ele:\n",
    "                return ck\n",
    "    for ele in sample_input:\n",
    "\n",
    "        child_key = _get_child_key(ele)\n",
    "        parent_path, child_path = ele.split(child_key)\n",
    "        # post process the paths - remove leading and trailing \"/\"\n",
    "        #parent_path = parent_path.rstrip(\"/\").lstrip(\"/\")\n",
    "        #child_path = child_path.rstrip(\"/\").lstrip(\"/\")\n",
    "\n",
    "        if parent_path in parent_path_dict:\n",
    "            #parent_path_dict[parent_path][child_key] = child_path\n",
    "            parent_path_dict[parent_path][child_key] = parent_path + child_key + child_path\n",
    "        else:\n",
    "            parent_path_dict[parent_path] = {child_key: parent_path + child_key + child_path}\n",
    "    return parent_path_dict"
   ]
  },
  {
   "cell_type": "code",
   "execution_count": 116,
   "id": "c2dc2729-9899-442e-968b-6d8423de7fc7",
   "metadata": {},
   "outputs": [
    {
     "name": "stdout",
     "output_type": "stream",
     "text": [
      "{'attention/': 'CSL/2021/08/26/MS/1/attention/smarthelm_attention.csv', 'location': 'CSL/2021/08/26/MS/1/location/smarthelm_gps.csv', 'raw_eeg': 'CSL/2021/08/26/MS/1/raw_eeg/sub-P001_MS1_ses-S001_task-Default_run-001_eeg.xdf', 'speech/': 'CSL/2021/08/26/MS/1/speech/smarthelm_speech.csv', 'ui_event': 'CSL/2021/08/26/MS/1/ui_event/smarthelm_ui.csv'}\n",
      "{'attention/': 'CSL/2021/10/01/NP/01/attention/smarthelm_attention.csv', 'location': 'CSL/2021/10/01/NP/01/location/smarthelm_gps.csv', 'raw_eeg': 'CSL/2021/10/01/NP/01/raw_eeg/sub-P001_ses-S001_task-Default_run-001_eeg.xdf', 'speech/': 'CSL/2021/10/01/NP/01/speech/smarthelm_speech.csv', 'ui_event': 'CSL/2021/10/01/NP/01/ui_event/smarthelm_ui.csv', 'vision': 'CSL/2021/10/01/NP/01/vision/GOPR0445.MP4.gz'}\n",
      "{'attention/': 'CSL/2021/10/01/NP/2/attention/smarthelm_attention.csv', 'location': 'CSL/2021/10/01/NP/2/location/smarthelm_gps.csv', 'raw_eeg': 'CSL/2021/10/01/NP/2/raw_eeg/sub-P001_ses-S001_task-Default_run-001_eeg.xdf', 'speech/': 'CSL/2021/10/01/NP/2/speech/smarthelm_speech.csv', 'ui_event': 'CSL/2021/10/01/NP/2/ui_event/smarthelm_ui.csv'}\n",
      "{'attention/': 'CSL/2021/10/02/FJ/01/attention/smarthelm_attention.csv', 'location': 'CSL/2021/10/02/FJ/01/location/smarthelm_gps.csv', 'raw_eeg': 'CSL/2021/10/02/FJ/01/raw_eeg/sub-P001_ses-S001_task-Default_run-001_eeg.xdf', 'speech/': 'CSL/2021/10/02/FJ/01/speech/smarthelm_speech.csv', 'ui_event': 'CSL/2021/10/02/FJ/01/ui_event/smarthelm_ui.csv'}\n",
      "{'attention/': 'CSL/2021/10/02/FJ/02/attention/smarthelm_attention.csv', 'location': 'CSL/2021/10/02/FJ/02/location/smarthelm_gps.csv', 'raw_eeg': 'CSL/2021/10/02/FJ/02/raw_eeg/sub-P001_ses-S001_task-Default_run-001_eeg.xdf', 'speech/': 'CSL/2021/10/02/FJ/02/speech/smarthelm_speech.csv', 'ui_event': 'CSL/2021/10/02/FJ/02/ui_event/smarthelm_ui.csv'}\n",
      "{'attention/': 'CSL/2021/10/13/JS/01/attention/smarthelm_attention.csv', 'location': 'CSL/2021/10/13/JS/01/location/smarthelm_gps.csv', 'raw_eeg': 'CSL/2021/10/13/JS/01/raw_eeg/sub-P001_ses-S001_task-Default_run-001_eeg.xdf', 'speech/': 'CSL/2021/10/13/JS/01/speech/smarthelm_speech.csv', 'ui_event': 'CSL/2021/10/13/JS/01/ui_event/smarthelm_ui.csv'}\n",
      "{'attention/': 'CSL/2021/10/13/JS/02/attention/smarthelm_attention.csv', 'location': 'CSL/2021/10/13/JS/02/location/smarthelm_gps.csv', 'raw_eeg': 'CSL/2021/10/13/JS/02/raw_eeg/sub-P001_ses-S001_task-Default_run-001_eeg.xdf', 'speech/': 'CSL/2021/10/13/JS/02/speech/smarthelm_speech.csv', 'ui_event': 'CSL/2021/10/13/JS/02/ui_event/smarthelm_ui.csv'}\n",
      "{'attention/': 'CSL/2021/10/15/TN/01/attention/smarthelm_attention.csv', 'location': 'CSL/2021/10/15/TN/01/location/smarthelm_gps.csv', 'raw_eeg': 'CSL/2021/10/15/TN/01/raw_eeg/sub-P001_ses-S001_task-Default_run-001_eeg.xdf', 'speech/': 'CSL/2021/10/15/TN/01/speech/smarthelm_speech.csv', 'ui_event': 'CSL/2021/10/15/TN/01/ui_event/smarthelm_ui.csv'}\n"
     ]
    }
   ],
   "source": [
    "for k,v in x.items():\n",
    "    if 'location' in v:\n",
    "        print(v)"
   ]
  },
  {
   "cell_type": "code",
   "execution_count": null,
   "id": "3ead0a63-6648-4894-b291-6d2dbb9ee425",
   "metadata": {},
   "outputs": [],
   "source": []
  },
  {
   "cell_type": "code",
   "execution_count": null,
   "id": "a4418782-cc48-4912-bc7f-8bb959fb1193",
   "metadata": {},
   "outputs": [],
   "source": []
  }
 ],
 "metadata": {
  "kernelspec": {
   "display_name": "Python 3 (ipykernel)",
   "language": "python",
   "name": "python3"
  },
  "language_info": {
   "codemirror_mode": {
    "name": "ipython",
    "version": 3
   },
   "file_extension": ".py",
   "mimetype": "text/x-python",
   "name": "python",
   "nbconvert_exporter": "python",
   "pygments_lexer": "ipython3",
   "version": "3.8.10"
  },
  "vp": {
   "vp_config_version": "1.0.0",
   "vp_menu_width": 273,
   "vp_note_display": false,
   "vp_note_width": 0,
   "vp_position": {
    "width": 278
   },
   "vp_section_display": false,
   "vp_signature": "VisualPython"
  }
 },
 "nbformat": 4,
 "nbformat_minor": 5
}
