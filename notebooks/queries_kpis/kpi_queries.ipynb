{
 "cells": [
  {
   "cell_type": "code",
   "execution_count": 1,
   "id": "ccb6465c-51e9-483e-806b-31f08f9bc5ab",
   "metadata": {},
   "outputs": [],
   "source": [
    "from sqlalchemy import create_engine"
   ]
  },
  {
   "cell_type": "code",
   "execution_count": null,
   "id": "24a41504-51b8-4e4c-a1ea-535e523dea91",
   "metadata": {},
   "outputs": [],
   "source": [
    "# after implmentation this cell should be removed completely \n",
    "\n",
    "DIALECT = \"psycopg2\"\n",
    "DRIVER = \"postgresql\"\n",
    "PORT = 5432\n",
    "HOST = \"smarthelm-nas.vlba.uni-oldenburg.de\"\n",
    "ENVIRONMENT = \"testing_db\"\n",
    "\n",
    "user_id = \"smarthelm_db_admin\"\n",
    "password = \"/kCh.g%3v4/TW5f=\"\n",
    "dialect = DIALECT\n",
    "driver = DRIVER\n",
    "port = PORT\n",
    "host = HOST\n",
    "db_name = ENVIRONMENT"
   ]
  },
  {
   "cell_type": "code",
   "execution_count": null,
   "id": "6a99f8ee-73ef-4acd-bf86-9b1874f54af8",
   "metadata": {},
   "outputs": [],
   "source": [
    "db_engine = create_engine(f\"{driver}+{dialect}://{user_id}:{password}@{host}:{port}/{db_name}\")"
   ]
  },
  {
   "cell_type": "code",
   "execution_count": null,
   "id": "4aad859c-1f0d-4438-a5f1-08294fdbba1a",
   "metadata": {},
   "outputs": [],
   "source": [
    "## ## Distance travelled by the participant in one session \n",
    "sql_query = \"\"\"\n",
    "SELECT round(((max(seconds_of_day) - min(seconds_of_day)) * avg(velocity) * 3.6)  ,2)\n",
    "        AS distance_travelled\n",
    "FROM public.fact_data\n",
    "WHERE participant_id = '{participant_id}'\n",
    "\tAND experiment_nr = {exp_nr}\n",
    "\tAND experiment_location_id = '{exp_location}'\n",
    "\tAND experiment_date = '{exp_date}'\n",
    "\"\"\""
   ]
  },
  {
   "cell_type": "code",
   "execution_count": null,
   "id": "486501ce-aae6-4b04-8a97-fedfdc31d766",
   "metadata": {},
   "outputs": [],
   "source": [
    "results = db_engine.execute(sql_query.format(participant_id= \"MN\", \n",
    "                                             exp_nr= 1,\n",
    "                                             exp_location='Rytle',\n",
    "                                            exp_date='2021-10-20'\n",
    "                                            ))\n",
    "distance_travelled_per_session = results.fetchall()"
   ]
  },
  {
   "cell_type": "code",
   "execution_count": null,
   "id": "80a65539-60b6-4ff9-909d-b461d0a55546",
   "metadata": {},
   "outputs": [],
   "source": [
    "print(f\"distance travelled by the pro session  \", distance_travelled_per_session[0][0] )"
   ]
  },
  {
   "cell_type": "code",
   "execution_count": null,
   "id": "cb899352-094c-4610-8b09-b125d8f4e8d8",
   "metadata": {},
   "outputs": [],
   "source": [
    "## total time per experiment by an candidate\n",
    "sql_query = \"\"\"\n",
    "            SELECT ((max(seconds_of_day) - min(seconds_of_day))/ 60) as time_duration\n",
    "               from public.etd_data\n",
    "               where participant_id =  '{participant_id}' and experiment_nr= {exp_nr}\n",
    "               group by experiment_date\n",
    "                \"\"\""
   ]
  },
  {
   "cell_type": "code",
   "execution_count": null,
   "id": "fba9309b-6b32-4d51-ac3f-b492cd08314c",
   "metadata": {},
   "outputs": [],
   "source": [
    "results = db_engine.execute(sql_query.format(participant_id= \"MN\", exp_nr = 1))\n",
    "time_duration_per_session = results.fetchall()"
   ]
  },
  {
   "cell_type": "code",
   "execution_count": null,
   "id": "c5b77968-a8f6-480b-94b8-aee71c91f4cd",
   "metadata": {},
   "outputs": [],
   "source": [
    "print(f\"time taken for completion  by the per session:  {time_duration_per_session[0][0]} minutes\")"
   ]
  },
  {
   "cell_type": "code",
   "execution_count": null,
   "id": "51af0c57-50a9-4d34-ae2d-511c2fa632ad",
   "metadata": {},
   "outputs": [],
   "source": [
    "## KPI's for eeg data \n",
    "\n",
    "sql_query = \"\"\"\n",
    "            SELECT avg(eeg_value_1) as average_eeg_elctrode_1,\n",
    "                   avg(eeg_value_2) as average_eeg_elctrode_2,\n",
    "                   avg(eeg_value_3) as average_eeg_elctrode_3,\n",
    "                   avg(eeg_value_4) as average_eeg_elctrode_4,\n",
    "                   avg(eeg_value_5) as average_eeg_elctrode_5,\n",
    "                   avg(eeg_value_6) as average_eeg_elctrode_6,\n",
    "                   avg(eeg_value_7) as average_eeg_elctrode_7\n",
    "            from   public.eeg_data\n",
    "            where  participant_id =  '{participant_id}' and experiment_nr= {exp_nr}\n",
    "            group by experiment_date       \n",
    "                   \n",
    "            \"\"\""
   ]
  },
  {
   "cell_type": "code",
   "execution_count": null,
   "id": "1ff1f437-2e3d-4e31-881f-11791c031c56",
   "metadata": {},
   "outputs": [],
   "source": [
    "results = db_engine.execute(sql_query.format(participant_id= \"MN\", exp_nr = 1))\n",
    "eeg_impedance_per_session = results.fetchall()"
   ]
  },
  {
   "cell_type": "code",
   "execution_count": null,
   "id": "bcb44eb3-0cfa-437b-b9e8-bf4b1c05f9cd",
   "metadata": {},
   "outputs": [],
   "source": [
    "print(f\"impedances value from the 7 eeg electrodes per one session  are: {eeg_impedance_per_session}\")"
   ]
  },
  {
   "cell_type": "markdown",
   "id": "175e72a3-054d-4e51-b877-093753c99c09",
   "metadata": {},
   "source": [
    "#### KPI 3rd phase queries "
   ]
  },
  {
   "cell_type": "code",
   "execution_count": 2,
   "id": "e62581cd-3659-428f-9c1b-6f5b14bf44ca",
   "metadata": {},
   "outputs": [
    {
     "data": {
      "text/plain": [
       "49218"
      ]
     },
     "execution_count": 2,
     "metadata": {},
     "output_type": "execute_result"
    }
   ],
   "source": [
    "49218"
   ]
  },
  {
   "cell_type": "code",
   "execution_count": 3,
   "id": "41d450b6-359e-4aee-ba37-adc6a64994d2",
   "metadata": {},
   "outputs": [
    {
     "data": {
      "text/plain": [
       "86400"
      ]
     },
     "execution_count": 3,
     "metadata": {},
     "output_type": "execute_result"
    }
   ],
   "source": [
    "24 * 3600"
   ]
  },
  {
   "cell_type": "code",
   "execution_count": null,
   "id": "106f7f77-62a7-4bd1-bfca-a96c367fa9a2",
   "metadata": {},
   "outputs": [],
   "source": []
  }
 ],
 "metadata": {
  "kernelspec": {
   "display_name": "Python 3 (ipykernel)",
   "language": "python",
   "name": "python3"
  },
  "language_info": {
   "codemirror_mode": {
    "name": "ipython",
    "version": 3
   },
   "file_extension": ".py",
   "mimetype": "text/x-python",
   "name": "python",
   "nbconvert_exporter": "python",
   "pygments_lexer": "ipython3",
   "version": "3.8.10"
  }
 },
 "nbformat": 4,
 "nbformat_minor": 5
}
