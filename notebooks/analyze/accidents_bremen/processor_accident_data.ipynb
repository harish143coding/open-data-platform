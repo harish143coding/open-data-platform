{
 "cells": [
  {
   "cell_type": "markdown",
   "metadata": {},
   "source": [
    "## Visual Python Upgrade\n",
    "NOTE: \n",
    "- Refresh your web browser to start a new version.\n",
    "- Save VP Note before refreshing the page."
   ]
  },
  {
   "cell_type": "markdown",
   "metadata": {},
   "source": [
    "## Visual Python Upgrade\n",
    "NOTE: \n",
    "- Refresh your web browser to start a new version.\n",
    "- Save VP Note before refreshing the page."
   ]
  },
  {
   "cell_type": "code",
   "execution_count": 1,
   "metadata": {},
   "outputs": [],
   "source": [
    "import pandas as pd\n",
    "#import dtale\n",
    "import folium"
   ]
  },
  {
   "cell_type": "code",
   "execution_count": 21,
   "metadata": {},
   "outputs": [],
   "source": [
    "# when a new file comes add it into the list\n",
    "# the \"total_accidents.csv\" hold already accidents from 2019 to 21\n",
    "\n",
    "#filenames = [\"unfallen_2019_StadtBremen.txt\", \"unfallen_2020_StadtBremen.txt\", \"unfallen_2021_StadtBremen.txt\"]\n",
    "\n",
    "with open(\"total_accidents.csv\", \"w\") as output_file:\n",
    "    for file_name in filenames:\n",
    "        with open(file_name) as input_file:\n",
    "            contents = input_file.read()\n",
    "            output_file.write(contents)"
   ]
  },
  {
   "cell_type": "code",
   "execution_count": 2,
   "metadata": {},
   "outputs": [],
   "source": [
    "# the \"total_accidents.csv\" hold already accidents from 2019 to 21\n",
    "\n",
    "accidents_bremen_2019 = pd.read_table(\"total_accidents.csv\")"
   ]
  },
  {
   "cell_type": "markdown",
   "metadata": {},
   "source": [
    "### plan of action for the accident data (Unfall Daten)\n",
    "description of the available data\n",
    "\n",
    "**idea\n",
    "\n",
    "*focus on the particular street where the smarthelm experiments will be carried out.*\n",
    "\n",
    "set markers on the street from the data obtained between 2019 to 2021: this is done\n",
    "\n",
    "- till down the \"test.html\" holds already accidents from 2019 to 21\" holds the accidents from 2019 to 21\n",
    "\n",
    "integrate them on to the map\n",
    "\n",
    "before integration comma's in the geo coordinates should converted decimal *\n",
    "\n",
    "the better approach would be to integrate the accident data indpendently, which means seperate to each other *\n",
    "\n",
    "distraction should be integrated on to the map\n"
   ]
  },
  {
   "cell_type": "code",
   "execution_count": 3,
   "metadata": {},
   "outputs": [],
   "source": [
    "def get_the_street(accidents_df: pd.DataFrame, street: str) -> pd.DataFrame:\n",
    "    \"Fn to obtain the desired street as dataframe, in our case rytle street\"\n",
    "    sample_rytle_street_df = accidents_df.groupby(by = \"Strasse\").get_group(street)\n",
    "    return sample_rytle_street_df"
   ]
  },
  {
   "cell_type": "code",
   "execution_count": 4,
   "metadata": {},
   "outputs": [],
   "source": [
    "rytle_street = get_the_street(accidents_bremen_2019, \"Konsul-Smidt-Straße\" )\n",
    "csl_street = get_the_street(accidents_bremen_2019, \"Universitätsallee\" )"
   ]
  },
  {
   "cell_type": "code",
   "execution_count": 25,
   "metadata": {},
   "outputs": [],
   "source": [
    "#rytle_street.info()"
   ]
  },
  {
   "cell_type": "code",
   "execution_count": 26,
   "metadata": {},
   "outputs": [],
   "source": [
    "rytle = folium.Map(location=[53.087465, 8.781670],  tiles='OpenStreetMap', zoom_start=14)\n",
    "def create_accidents_marker(street: pd.DataFrame):\n",
    "    \"\"\"\n",
    "    a street w ith accident information give a dataframe outputs the accident locations as markers\n",
    "    \"\"\"\n",
    "    rytle_geo_col_names = ['Koord.y', 'Koord.x']\n",
    "    geo_coords = street[rytle_geo_col_names].replace(\n",
    "                                    to_replace = {\"Koord.y\": ',', \"Koord.x\" : ',' }, \n",
    "                                    value = \".\",\n",
    "                                    regex = True)\n",
    "    geo_coords = geo_coords.to_dict(orient='records')\n",
    "    for x in geo_coords:\n",
    "        folium.Circle(\n",
    "        radius=8,\n",
    "        location=[x['Koord.y'], x['Koord.x']],\n",
    "        popup=\"Leicht verletzt\",\n",
    "        color=\"crimson\",\n",
    "        fill=True,\n",
    "        ).add_to(rytle)\n",
    "    return rytle.save(\"test.html\")"
   ]
  },
  {
   "cell_type": "code",
   "execution_count": 27,
   "metadata": {},
   "outputs": [],
   "source": [
    "rytle = create_accidents_marker(rytle_street)"
   ]
  },
  {
   "cell_type": "code",
   "execution_count": null,
   "metadata": {},
   "outputs": [],
   "source": [
    "### Misc\n",
    "rytle_street.loc[(rytle_street[\"Gt\"] > 0) | (rytle_street[\"Lv\"] > 0)].iloc[:, 35:]['Koord.x']\n",
    "rytle_street.loc[(rytle_street[\"Gt\"] > 0) | (rytle_street[\"Lv\"] > 0)].iloc[:, 35:]['Koord.y']\n",
    "\n",
    "\n",
    "df_english_columns = accidenvalue_countsbentbremen_2019.rename(\n",
    "                     {\n",
    "                         \"Gt\" : \"died\",\n",
    "                         \"Sv\" : \"severly_injured\",\n",
    "                         \"Lv\" : \"light injury\",\n",
    "                         \"Bet\":  \"involoved_parties\",\n",
    "                         \"Art\":  \"type\",\n",
    "                         \"Char1\": \"\",\n",
    "                         \"Char2\": \"\",\n",
    "                         \"Beso1\": \"peculiarity1\",\n",
    "                         \"Beso2\": \"peculiarity2\",                   \n",
    "                     }\n",
    ")\n",
    " "
   ]
  }
 ],
 "metadata": {
  "kernelspec": {
   "display_name": "Python 3 (ipykernel)",
   "language": "python",
   "name": "python3"
  },
  "language_info": {
   "codemirror_mode": {
    "name": "ipython",
    "version": 3
   },
   "file_extension": ".py",
   "mimetype": "text/x-python",
   "name": "python",
   "nbconvert_exporter": "python",
   "pygments_lexer": "ipython3",
   "version": "3.8.10"
  },
  "vp": {
   "vp_config_version": "1.0.0",
   "vp_menu_width": 273,
   "vp_note_display": false,
   "vp_note_width": 0,
   "vp_position": {
    "width": 278
   },
   "vp_section_display": false,
   "vp_signature": "VisualPython"
  }
 },
 "nbformat": 4,
 "nbformat_minor": 4
}
