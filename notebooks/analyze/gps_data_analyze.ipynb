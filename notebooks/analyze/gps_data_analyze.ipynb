{
 "cells": [
  {
   "cell_type": "code",
   "execution_count": 1,
   "id": "cubic-welding",
   "metadata": {},
   "outputs": [],
   "source": [
    "\"\"\" header files \"\"\"\n",
    "import pandas as pd\n",
    "import folium\n",
    "from folium import plugins\n",
    "import gpxpy\n",
    "import trackanimation\n",
    "from trackanimation.animation import AnimationTrack\n",
    "import random\n",
    "import ast\n",
    "from ast import literal_eval"
   ]
  },
  {
   "cell_type": "code",
   "execution_count": 3,
   "id": "481a7501-3159-4eb7-90cb-3c85ad1a7eac",
   "metadata": {},
   "outputs": [],
   "source": [
    "\"\"\" loading the GPS data from ecosense project\"\"\"\n",
    "gps_data_sample_1 = pd.read_csv(r'/home/harish/Nextcloud/My_Data/Daten_resourcen/GPS_data/2020-mcloud-ecosense-data-export-gps-examples/br1.csv', sep = ';')\n",
    "gps_data_sample_2 = pd.read_csv(r'/home/harish/Nextcloud/My_Data/Daten_resourcen/GPS_data/2020-mcloud-ecosense-data-export-gps-examples/bikeride-gps-31fffbf7b0b884cd0c84c7ab024e666e2c03ae0e.csv', sep = ';')\n",
    "\n",
    "gps_data_sample_followme = pd.read_csv(r'/home/harish/Nextcloud/GPS_data/followmee/accurate_data/tracks(1).csv', sep = ',')\n",
    "# sample data from CSL\n",
    "gps_data_owntracks = pd.read_csv(r'/home/harish/Nextcloud/My_Data/Daten_resourcen/GPS_data/Owntracks_csl/smarthelm_gps.csv', sep = ';')\n",
    "\n"
   ]
  },
  {
   "cell_type": "code",
   "execution_count": 2,
   "id": "3c6c0807-472e-4dd3-8c80-b0a339dacc0c",
   "metadata": {},
   "outputs": [],
   "source": [
    "\"\"\" loading the data from summer study 2021 to make heatmaps\"\"\"   \n",
    "#gps_data = pd.read_csv(r'/home/harish/Nextcloud/My_Data/Daten_resourcen/GPS_data/summer_study/20210916-160944__8a2d825e-a92c-48f5-91ca-32b957f602b4/smarthelm_gps/smarthelm_gps.csv', sep = ';')\n",
    "\n",
    "#rytle_csv = pd.read_csv(r'/home/harish/Downloads/bs2/ses-S001/mqtt/20211105-161253__3b83150f-f907-4319-913d-08bbd9f2c092/smarthelm_gps/smarthelm_gps.csv', sep = ';')\n",
    "citipost_csv = pd.read_csv(r'/home/harish/Nextcloud/My_Data/minio/Summer_Study_CitiPost/smarthelm_gps/smarthelm_gps.csv', sep = ';')\n",
    "#csl_csv = pd.read_csv(r'/home/harish/Nextcloud/My_Data/Daten_resourcen/GPS_data/summer_study/csl_20211001-160038__0b78241c-d120-4710-a270-dac7f6620380/smarthelm_gps/smarthelm_gps.csv', sep = ';')"
   ]
  },
  {
   "cell_type": "code",
   "execution_count": 3,
   "id": "44d4c37d-5797-45e1-816d-515ea921e459",
   "metadata": {},
   "outputs": [],
   "source": [
    "df = pd.DataFrame(data = citipost_csv)"
   ]
  },
  {
   "cell_type": "code",
   "execution_count": 22,
   "id": "23f2153b-45c6-471d-a294-174cb955f3a3",
   "metadata": {},
   "outputs": [],
   "source": [
    "\"\"\"Goal : list of lat-long pairs for each file\"\"\"\n",
    "x = pd.DataFrame(df.MSG.apply(ast.literal_eval))\n",
    "y = x.values\n",
    "z = y.tolist()\n",
    "trial_route = []\n",
    "for i in z:\n",
    "    #print(i[0]['lat'])\n",
    "    trial_route.append([i[0]['lat'], i[0]['lon']])"
   ]
  },
  {
   "cell_type": "code",
   "execution_count": 23,
   "id": "7f989730-391f-4e45-a8c4-e43c10219e2a",
   "metadata": {},
   "outputs": [],
   "source": [
    "\"Bremen city sample route\"\n",
    "bremen = folium.Map([53.0793, 8.8017], zoom_start=14, control_scale = True) \n",
    "#route_bremen = folium.plugins.AntPath(locations = route_three_list, popup=None, tooltip=None)\n",
    "oldenburg = folium.Map([53.1435, 8.2146], zoom_start=14, control_scale = True)"
   ]
  },
  {
   "cell_type": "code",
   "execution_count": 24,
   "id": "fd2ec603-ae2c-4537-90c1-db40fd7133a5",
   "metadata": {},
   "outputs": [],
   "source": [
    "\"\"\"creating small function to generate heatmaps from summer study data\"\"\"\n",
    "def heat_map_summer_study_2021(gps_positions, city_map):\n",
    "    dummy_distractions = [random.randrange(1, 8, 2) for i in range(len(gps_positions) - 1)]\n",
    "    colors = dummy_distractions\n",
    "    dummy_route_heatmap = folium.features.ColorLine(gps_positions, colors, colormap = ['r','g','b', 'y'], nb_steps=12, weight=6, opacity=None)\n",
    "    dummy_route_heatmap.add_to(city_map)\n",
    "    folium.TileLayer('openstreetmap').add_to(city_map)\n",
    "    folium.TileLayer('stamenwatercolor').add_to(city_map)\n",
    "    folium.TileLayer('stamentoner').add_to(city_map)\n",
    "    folium.TileLayer('cartodbpositron').add_to(city_map)\n",
    "    folium.TileLayer('cartodbdark_matter').add_to(city_map)\n",
    "    folium.LayerControl(position = \"topright\").add_to(city_map)\n",
    "    return city_map"
   ]
  },
  {
   "cell_type": "code",
   "execution_count": 27,
   "id": "2c46bbd2-e4ae-4afe-b8ec-2f5e45f17aee",
   "metadata": {},
   "outputs": [],
   "source": [
    "test = heat_map_summer_study_2021(trial_route, oldenburg)"
   ]
  },
  {
   "cell_type": "code",
   "execution_count": 29,
   "id": "580ebeaa-1bbe-4c13-a004-7127fb4a8d3f",
   "metadata": {},
   "outputs": [],
   "source": [
    "#test\n",
    "test.save(\"citipost_summer_study.html\")"
   ]
  },
  {
   "cell_type": "code",
   "execution_count": 7,
   "id": "5a5c9786-a16b-4d6f-8853-cb72db9359c8",
   "metadata": {},
   "outputs": [],
   "source": [
    "pd.set_option(\"display.max_rows\", None, \"display.max_columns\", None) \n",
    "#df_follow_mee"
   ]
  },
  {
   "cell_type": "code",
   "execution_count": 15,
   "id": "f47033cf-ebbd-43db-8090-f8e9cc71617e",
   "metadata": {},
   "outputs": [],
   "source": [
    "# columnsTitles=['latitude','longitude']\n",
    "# df=df.reindex(columns=columnsTitles)\n",
    "#len(routes_two_list)"
   ]
  },
  {
   "cell_type": "code",
   "execution_count": 16,
   "id": "stupid-anthony",
   "metadata": {},
   "outputs": [],
   "source": [
    "# ride_points = gps_data[['longitude','latitude']]"
   ]
  },
  {
   "cell_type": "code",
   "execution_count": 18,
   "id": "1a55230e-3fd1-4761-a1a6-b331cb50bad3",
   "metadata": {},
   "outputs": [
    {
     "data": {
      "text/plain": [
       "'function to create  circle markers'"
      ]
     },
     "execution_count": 18,
     "metadata": {},
     "output_type": "execute_result"
    }
   ],
   "source": [
    "\"\"\"function to create  circle markers\"\"\"\n",
    "# for index, row in gps_data.iterrows():\n",
    "#     folium.CircleMarker([row['latitude'], row['longitude']],\n",
    "#                         radius=15,\n",
    "#                         popup=row['measured_date'],\n",
    "#                         fill_color=\"#3db7e4\", # divvy color\n",
    "#                        ).add_to(m)\n",
    "#m.add_children(plugins.HeatMap(ride_points, radius=15))    "
   ]
  },
  {
   "cell_type": "code",
   "execution_count": 111,
   "id": "acting-rocket",
   "metadata": {},
   "outputs": [
    {
     "ename": "NameError",
     "evalue": "name 'route_four_list' is not defined",
     "output_type": "error",
     "traceback": [
      "\u001b[0;31m---------------------------------------------------------------------------\u001b[0m",
      "\u001b[0;31mNameError\u001b[0m                                 Traceback (most recent call last)",
      "\u001b[0;32m<ipython-input-111-4bda34243f38>\u001b[0m in \u001b[0;36m<module>\u001b[0;34m\u001b[0m\n\u001b[1;32m      3\u001b[0m \u001b[0;31m# route_b = folium.plugins.AntPath(locations = route_two_list, popup=None, tooltip=None)\u001b[0m\u001b[0;34m\u001b[0m\u001b[0;34m\u001b[0m\u001b[0;34m\u001b[0m\u001b[0m\n\u001b[1;32m      4\u001b[0m \u001b[0;31m# route_a = folium.plugins.AntPath(locations = route_one_list, popup=None, tooltip=None)\u001b[0m\u001b[0;34m\u001b[0m\u001b[0;34m\u001b[0m\u001b[0;34m\u001b[0m\u001b[0m\n\u001b[0;32m----> 5\u001b[0;31m \u001b[0mroute_followmee\u001b[0m \u001b[0;34m=\u001b[0m \u001b[0mfolium\u001b[0m\u001b[0;34m.\u001b[0m\u001b[0mplugins\u001b[0m\u001b[0;34m.\u001b[0m\u001b[0mAntPath\u001b[0m\u001b[0;34m(\u001b[0m\u001b[0mlocations\u001b[0m \u001b[0;34m=\u001b[0m \u001b[0mroute_four_list\u001b[0m\u001b[0;34m,\u001b[0m \u001b[0mpopup\u001b[0m\u001b[0;34m=\u001b[0m\u001b[0;32mNone\u001b[0m\u001b[0;34m,\u001b[0m \u001b[0mtooltip\u001b[0m\u001b[0;34m=\u001b[0m\u001b[0;32mNone\u001b[0m\u001b[0;34m)\u001b[0m\u001b[0;34m\u001b[0m\u001b[0;34m\u001b[0m\u001b[0m\n\u001b[0m\u001b[1;32m      6\u001b[0m \u001b[0moldb\u001b[0m \u001b[0;34m=\u001b[0m \u001b[0mfolium\u001b[0m\u001b[0;34m.\u001b[0m\u001b[0mMap\u001b[0m\u001b[0;34m(\u001b[0m\u001b[0;34m[\u001b[0m\u001b[0;36m53.1435\u001b[0m\u001b[0;34m,\u001b[0m \u001b[0;36m8.2146\u001b[0m\u001b[0;34m]\u001b[0m\u001b[0;34m,\u001b[0m \u001b[0mzoom_start\u001b[0m\u001b[0;34m=\u001b[0m\u001b[0;36m15\u001b[0m\u001b[0;34m)\u001b[0m\u001b[0;34m\u001b[0m\u001b[0;34m\u001b[0m\u001b[0m\n\u001b[1;32m      7\u001b[0m \u001b[0;31m# route_b.add_to(oldenbur)\u001b[0m\u001b[0;34m\u001b[0m\u001b[0;34m\u001b[0m\u001b[0;34m\u001b[0m\u001b[0m\n",
      "\u001b[0;31mNameError\u001b[0m: name 'route_four_list' is not defined"
     ]
    }
   ],
   "source": [
    "\"\"\"route on the map Oldenburg\"\"\"\n",
    "#folium.plugins.AntPath(locations, popup=None, tooltip=None, **kwargs)\n",
    "# route_b = folium.plugins.AntPath(locations = route_two_list, popup=None, tooltip=None)\n",
    "# route_a = folium.plugins.AntPath(locations = route_one_list, popup=None, tooltip=None)\n",
    "route_followmee = folium.plugins.AntPath(locations = route_four_list, popup=None, tooltip=None)\n",
    "oldb = folium.Map([53.1435, 8.2146], zoom_start=15) \n",
    "# route_b.add_to(oldenbur)\n",
    "# route_a.add_to(oldenbur)\n",
    "route_followmee.add_to(oldb)\n",
    "oldb"
   ]
  },
  {
   "cell_type": "code",
   "execution_count": 5,
   "id": "28bd1ec5-5f4d-4fbd-aec3-d63ecbce25ef",
   "metadata": {},
   "outputs": [],
   "source": [
    "\"\"\"function to parse GPX data : conversion of GPX data \"\"\"\n",
    "def process_gpx_to_df(file_name):\n",
    "    gpx = gpxpy.parse(open(file_name)) \n",
    " \n",
    " #(1)make DataFrame\n",
    "    track = gpx.tracks[0]\n",
    "    segment = track.segments[0]\n",
    " # Load the data into a Pandas dataframe (by way of a list)\n",
    "    data = []\n",
    "    segment_length = segment.length_3d()\n",
    "    for point_idx, point in enumerate(segment.points):\n",
    "        data.append([point.longitude, point.latitude,point.elevation,\n",
    "        point.time, segment.get_speed(point_idx)])\n",
    "        columns = ['Longitude', 'Latitude', 'Altitude', 'Time', 'Speed']\n",
    "        gpx_df = pd.DataFrame(data, columns=columns)\n",
    "\n",
    "     #2(make points tuple for line)\n",
    "    points = []\n",
    "    for track in gpx.tracks:\n",
    "        for segment in track.segments: \n",
    "            for point in segment.points:\n",
    "                points.append(tuple([point.latitude, point.longitude]))\n",
    "    return gpx_df, points"
   ]
  },
  {
   "cell_type": "code",
   "execution_count": 2,
   "id": "b2fda543-fcb7-46ed-a974-7af49a43236d",
   "metadata": {},
   "outputs": [],
   "source": [
    "# current files 2021-06-18 20_00_01.gpx, 2021-06-26 12_43_39.gpx, 2021-06-22 21_17_10.gpx,  : \n",
    "file_name = \"/home/harish/Nextcloud/GPS_data/2021-06-25 21_48_09-1.gpx\""
   ]
  },
  {
   "cell_type": "code",
   "execution_count": 4,
   "id": "dc25231f-474a-45b5-8ec9-0410c7d1c9aa",
   "metadata": {},
   "outputs": [],
   "source": [
    "\"\"\"dataframes of the GPS route to the corresponding day saved in here\"\"\"\n",
    "# gpx_route_22_6_21, points =process_gpx_to_df(file_name)\n",
    "gpx_route_25_6_21, points = process_gpx_to_df(file_name)\n",
    "#gpx_route_22_6_21\n",
    "gpx_route_25_6_21"
   ]
  },
  {
   "cell_type": "code",
   "execution_count": 25,
   "id": "8f2d1358-261c-486a-acd6-06716c44c8ee",
   "metadata": {},
   "outputs": [
    {
     "name": "stdin",
     "output_type": "stream",
     "text": [
      "enter the file name: 2021-06-22 21_17_10.gpx\n"
     ]
    }
   ],
   "source": [
    "# current files 2021-06-18 20_00_01.gpx, 2021-06-26 12_43_39.gpx, 2021-06-22 21_17_10.gpx  : "
   ]
  },
  {
   "cell_type": "code",
   "execution_count": 19,
   "id": "fdb639e4-2397-4762-992a-c6fb963baf55",
   "metadata": {},
   "outputs": [],
   "source": [
    "\"\"\"here are the datasets\"\"\"\n",
    "current_gpx_files_list = [\"2021-06-18 20_00_01.gpx\", \"2021-06-26 12_43_39.gpx\", \"2021-06-22 21_17_10.gpx\", \"2021-06-30 17_40_59.gpx\", \"2021-06-30 17_50_24.gpx\"]\n",
    "small_list = [\"2021-06-18 20_00_01.gpx\", \"2021-06-22 21_17_10.gpx\", \"2021-06-30 17_40_59.gpx\", \"2021-06-30 17_50_24.gpx\"]\n",
    "\n",
    "# Android my tracks applications tracks from suryans\n",
    "#accvuracy is same as the iphone app\n",
    "mytracks_android = [\"MyTracks_Routefrom2021-06-2620_50_44_20210626205044.gpx\", \"MyTracks_Routefrom2021-07-0415_48_15_20210704154815.gpx\"]\n",
    "\n",
    "#followmee app data\n",
    "\n",
    "follow_mee = [\"06072021.gpx\"]\n"
   ]
  },
  {
   "cell_type": "code",
   "execution_count": 20,
   "id": "9e9c6336-88fe-4846-bd83-298131ae2086",
   "metadata": {},
   "outputs": [],
   "source": [
    "ols = folium.Map([53.1435, 8.2146], zoom_start=12, tiles = 'stamentoner', control_scale = True)\n",
    "def heatmap_layer(gpx_data_list):\n",
    "    \"\"\"functin heatmap_layer: this function generates a heatmap layer by taking gpx data \"list\" as input file and after that converting the \n",
    "                         gpx--> df--> list and then passing this list as input to folium colorline method; dummy distractions are generated \n",
    "                         randomly\n",
    "      --> Input parameters:  list of gpx files(routes) to visulize a heat map\n",
    "        >> try to give the city map also as an improvement\n",
    "      --> Output: routes with distraction flags\n",
    "    \"\"\"\n",
    "    \n",
    "     #for creating tiles\n",
    "   \n",
    "    #print(\"select from a file from the following list\" , current_gpx_files_list)\n",
    "    for x in gpx_data_list:\n",
    "        file_name_gpx = f\"/home/harish/Nextcloud/GPS_data/followmee/{x}\"\n",
    "        gpx_route_df, points =process_gpx_to_df(file_name_gpx)\n",
    "        route = gpx_route_df.loc[:,'Longitude': 'Latitude']\n",
    "        columnsTitles=['Latitude','Longitude']\n",
    "        route=route.reindex(columns=columnsTitles)\n",
    "        route_list = route.values.tolist()\n",
    "        test_func = route_list\n",
    "        positions = test_func\n",
    "        dummy_distractions = [random.randrange(1, 8, 2) for i in range(len(test_func) - 1)]\n",
    "        colors = dummy_distractions\n",
    "        dummy_route_heatmap = folium.features.ColorLine(positions, colors, colormap = ['r','g','b', 'y'], nb_steps=12, weight=6, opacity=None)\n",
    "        dummy_route_heatmap.add_to(ols)\n",
    "    folium.TileLayer('openstreetmap').add_to(ols)\n",
    "    folium.TileLayer('stamenwatercolor').add_to(ols)\n",
    "    folium.TileLayer('stamentoner').add_to(ols)\n",
    "    folium.TileLayer('cartodbpositron').add_to(ols)\n",
    "    folium.TileLayer('cartodbdark_matter').add_to(ols)\n",
    "    folium.LayerControl(position = \"topright\").add_to(ols)\n",
    "    return ols "
   ]
  },
  {
   "cell_type": "code",
   "execution_count": 21,
   "id": "12fb8587-e9b9-4b7e-aa65-d4ae5704d61b",
   "metadata": {},
   "outputs": [],
   "source": [
    "heamap_design_one = heatmap_layer(follow_mee)"
   ]
  },
  {
   "cell_type": "code",
   "execution_count": 22,
   "id": "2602b052-e35e-4aa3-b4fd-346c9da38ed2",
   "metadata": {},
   "outputs": [
    {
     "data": {
      "text/plain": [
       "<folium.map.Marker at 0x7f2e04080f40>"
      ]
     },
     "execution_count": 22,
     "metadata": {},
     "output_type": "execute_result"
    }
   ],
   "source": [
    "\n",
    "marker = folium.Marker(location = [53.1435, 8.2146], \n",
    "                       popup = 'As a sample these colors show the 4 types of distractions; 1: BLUE for Auditory\\ 2.YELLOW for Mental\\ 3. RED for Visual\\ 4. GREEN No distraction', \n",
    "                    tooltip = 'press me')\n",
    "marker.add_to(heamap_design_one)"
   ]
  },
  {
   "cell_type": "code",
   "execution_count": 67,
   "id": "5de158ad-66e0-4731-b4c5-4ca4597c76a7",
   "metadata": {},
   "outputs": [],
   "source": [
    "#heamap_design_one"
   ]
  },
  {
   "cell_type": "code",
   "execution_count": 120,
   "id": "d2c66e09-c273-473a-844e-c52d28300ae6",
   "metadata": {},
   "outputs": [],
   "source": [
    "heamap_design_one.save(\"remove.html\")"
   ]
  },
  {
   "cell_type": "code",
   "execution_count": 94,
   "id": "ce4cb5d8-f470-4d7f-b35c-54bcf7306fde",
   "metadata": {},
   "outputs": [],
   "source": [
    "\"\"\"function test_function: to map all the routes on single map\"\"\"\n",
    "def test_function(ols):\n",
    "    olds_test = folium.Map([53.1435, 8.2146], zoom_start=12, tiles = 'stamenterrain', \n",
    "                           crs = 'EPSG3395',control_scale = True, prefer_canvas= True )\n",
    "    for x in current_gpx_files_list:\n",
    "        #print(\"select from a file from the following list\" , current_gpx_files_list )\n",
    "        heatmap_layer = heatmap_layer()\n",
    "        heatmap_layer.add_to(ols)\n",
    "    return ols"
   ]
  },
  {
   "cell_type": "code",
   "execution_count": null,
   "id": "72613f85-1cd1-4c61-9c83-e03dc65ed942",
   "metadata": {},
   "outputs": [],
   "source": [
    "# continue with the link https://towardsdatascience.com/build-interactive-gps-activity-maps-from-gpx-files-using-folium-cf9eebba1fe7"
   ]
  },
  {
   "cell_type": "code",
   "execution_count": null,
   "id": "50c1a6fe-b4a4-430f-9e6a-8354efd2a84c",
   "metadata": {},
   "outputs": [],
   "source": [
    "\"\"\"Testing one Git Repo with Route Heatmaps\"\"\"\n",
    "\"\"\"Ref: python-visualization.github.io/folium/modules.html?highlight=features#module-folium.features \"\"\" \n"
   ]
  },
  {
   "cell_type": "code",
   "execution_count": null,
   "id": "162a48e8-7ca1-4a7b-837a-14b2ce90c8aa",
   "metadata": {},
   "outputs": [],
   "source": [
    "\"\"\"trying to create a marker\"\"\"\n",
    "marker = folium.Marker(location = [53.1435, 8.2146], popup = 'To show the 4 types of distractions; 1: Auditory\\ 2. Mental\\ 3. Visual\\ 4. No distraction', tooltip = 'press me')"
   ]
  }
 ],
 "metadata": {
  "kernelspec": {
   "display_name": "Python 3",
   "language": "python",
   "name": "python3"
  },
  "language_info": {
   "codemirror_mode": {
    "name": "ipython",
    "version": 3
   },
   "file_extension": ".py",
   "mimetype": "text/x-python",
   "name": "python",
   "nbconvert_exporter": "python",
   "pygments_lexer": "ipython3",
   "version": "3.8.10"
  }
 },
 "nbformat": 4,
 "nbformat_minor": 5
}
